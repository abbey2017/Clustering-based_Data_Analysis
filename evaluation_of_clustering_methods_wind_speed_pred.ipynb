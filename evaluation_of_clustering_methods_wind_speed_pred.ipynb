{
 "cells": [
  {
   "cell_type": "markdown",
   "id": "febfb887",
   "metadata": {},
   "source": [
    "## Clustering SCADA data analysis- Evaluating different algorithms"
   ]
  },
  {
   "cell_type": "code",
   "execution_count": 2,
   "id": "2a15d30f",
   "metadata": {},
   "outputs": [],
   "source": [
    "# Import relevant libraries\n",
    "import os\n",
    "os.environ['OMP_NUM_THREADS'] = \"1\"\n",
    "\n",
    "import numpy as np\n",
    "import pandas as pd\n",
    "import matplotlib.pyplot as plt\n",
    "import seaborn as sns\n",
    "\n",
    "from matplotlib.ticker import MaxNLocator\n",
    "from sklearn.cluster import KMeans, AgglomerativeClustering, AffinityPropagation\n",
    "from sklearn.mixture import GaussianMixture\n",
    "from sklearn.metrics import mean_squared_error, mean_absolute_error, mean_absolute_percentage_error, silhouette_score\n",
    "from sklearn.preprocessing import StandardScaler\n",
    "from sklearn.decomposition import PCA\n",
    "\n",
    "from scada_data_analysis.modules.power_curve_preprocessing import PowerCurveFiltering"
   ]
  },
  {
   "cell_type": "code",
   "execution_count": 3,
   "id": "51e4da83",
   "metadata": {},
   "outputs": [],
   "source": [
    "# Load data\n",
    "df_scada = pd.read_csv('wtbdata_245days.csv.zip')\n",
    "df_loc = pd.read_csv('sdwpf_baidukddcup2022_turb_location.csv')"
   ]
  },
  {
   "cell_type": "markdown",
   "id": "13114156",
   "metadata": {},
   "source": [
    "### Data Exploration"
   ]
  },
  {
   "cell_type": "markdown",
   "id": "c0ceeb58",
   "metadata": {},
   "source": [
    "##### Explore turbine scada data"
   ]
  },
  {
   "cell_type": "code",
   "execution_count": 4,
   "id": "59f9544d",
   "metadata": {},
   "outputs": [
    {
     "data": {
      "text/html": [
       "<div>\n",
       "<style scoped>\n",
       "    .dataframe tbody tr th:only-of-type {\n",
       "        vertical-align: middle;\n",
       "    }\n",
       "\n",
       "    .dataframe tbody tr th {\n",
       "        vertical-align: top;\n",
       "    }\n",
       "\n",
       "    .dataframe thead th {\n",
       "        text-align: right;\n",
       "    }\n",
       "</style>\n",
       "<table border=\"1\" class=\"dataframe\">\n",
       "  <thead>\n",
       "    <tr style=\"text-align: right;\">\n",
       "      <th></th>\n",
       "      <th>TurbID</th>\n",
       "      <th>Day</th>\n",
       "      <th>Tmstamp</th>\n",
       "      <th>Wspd</th>\n",
       "      <th>Wdir</th>\n",
       "      <th>Etmp</th>\n",
       "      <th>Itmp</th>\n",
       "      <th>Ndir</th>\n",
       "      <th>Pab1</th>\n",
       "      <th>Pab2</th>\n",
       "      <th>Pab3</th>\n",
       "      <th>Prtv</th>\n",
       "      <th>Patv</th>\n",
       "    </tr>\n",
       "  </thead>\n",
       "  <tbody>\n",
       "    <tr>\n",
       "      <th>0</th>\n",
       "      <td>1</td>\n",
       "      <td>1</td>\n",
       "      <td>00:00</td>\n",
       "      <td>NaN</td>\n",
       "      <td>NaN</td>\n",
       "      <td>NaN</td>\n",
       "      <td>NaN</td>\n",
       "      <td>NaN</td>\n",
       "      <td>NaN</td>\n",
       "      <td>NaN</td>\n",
       "      <td>NaN</td>\n",
       "      <td>NaN</td>\n",
       "      <td>NaN</td>\n",
       "    </tr>\n",
       "    <tr>\n",
       "      <th>1</th>\n",
       "      <td>1</td>\n",
       "      <td>1</td>\n",
       "      <td>00:10</td>\n",
       "      <td>6.17</td>\n",
       "      <td>-3.99</td>\n",
       "      <td>30.73</td>\n",
       "      <td>41.80</td>\n",
       "      <td>25.92</td>\n",
       "      <td>1.0</td>\n",
       "      <td>1.0</td>\n",
       "      <td>1.0</td>\n",
       "      <td>-0.25</td>\n",
       "      <td>494.66</td>\n",
       "    </tr>\n",
       "    <tr>\n",
       "      <th>2</th>\n",
       "      <td>1</td>\n",
       "      <td>1</td>\n",
       "      <td>00:20</td>\n",
       "      <td>6.27</td>\n",
       "      <td>-2.18</td>\n",
       "      <td>30.60</td>\n",
       "      <td>41.63</td>\n",
       "      <td>20.91</td>\n",
       "      <td>1.0</td>\n",
       "      <td>1.0</td>\n",
       "      <td>1.0</td>\n",
       "      <td>-0.24</td>\n",
       "      <td>509.76</td>\n",
       "    </tr>\n",
       "    <tr>\n",
       "      <th>3</th>\n",
       "      <td>1</td>\n",
       "      <td>1</td>\n",
       "      <td>00:30</td>\n",
       "      <td>6.42</td>\n",
       "      <td>-0.73</td>\n",
       "      <td>30.52</td>\n",
       "      <td>41.52</td>\n",
       "      <td>20.91</td>\n",
       "      <td>1.0</td>\n",
       "      <td>1.0</td>\n",
       "      <td>1.0</td>\n",
       "      <td>-0.26</td>\n",
       "      <td>542.53</td>\n",
       "    </tr>\n",
       "    <tr>\n",
       "      <th>4</th>\n",
       "      <td>1</td>\n",
       "      <td>1</td>\n",
       "      <td>00:40</td>\n",
       "      <td>6.25</td>\n",
       "      <td>0.89</td>\n",
       "      <td>30.49</td>\n",
       "      <td>41.38</td>\n",
       "      <td>20.91</td>\n",
       "      <td>1.0</td>\n",
       "      <td>1.0</td>\n",
       "      <td>1.0</td>\n",
       "      <td>-0.23</td>\n",
       "      <td>509.36</td>\n",
       "    </tr>\n",
       "  </tbody>\n",
       "</table>\n",
       "</div>"
      ],
      "text/plain": [
       "   TurbID  Day Tmstamp  Wspd  Wdir   Etmp   Itmp   Ndir  Pab1  Pab2  Pab3  \\\n",
       "0       1    1   00:00   NaN   NaN    NaN    NaN    NaN   NaN   NaN   NaN   \n",
       "1       1    1   00:10  6.17 -3.99  30.73  41.80  25.92   1.0   1.0   1.0   \n",
       "2       1    1   00:20  6.27 -2.18  30.60  41.63  20.91   1.0   1.0   1.0   \n",
       "3       1    1   00:30  6.42 -0.73  30.52  41.52  20.91   1.0   1.0   1.0   \n",
       "4       1    1   00:40  6.25  0.89  30.49  41.38  20.91   1.0   1.0   1.0   \n",
       "\n",
       "   Prtv    Patv  \n",
       "0   NaN     NaN  \n",
       "1 -0.25  494.66  \n",
       "2 -0.24  509.76  \n",
       "3 -0.26  542.53  \n",
       "4 -0.23  509.36  "
      ]
     },
     "execution_count": 4,
     "metadata": {},
     "output_type": "execute_result"
    }
   ],
   "source": [
    "df_scada.head()"
   ]
  },
  {
   "cell_type": "code",
   "execution_count": 5,
   "id": "9228ed27",
   "metadata": {},
   "outputs": [
    {
     "name": "stdout",
     "output_type": "stream",
     "text": [
      "<class 'pandas.core.frame.DataFrame'>\n",
      "RangeIndex: 4727520 entries, 0 to 4727519\n",
      "Data columns (total 13 columns):\n",
      " #   Column   Dtype  \n",
      "---  ------   -----  \n",
      " 0   TurbID   int64  \n",
      " 1   Day      int64  \n",
      " 2   Tmstamp  object \n",
      " 3   Wspd     float64\n",
      " 4   Wdir     float64\n",
      " 5   Etmp     float64\n",
      " 6   Itmp     float64\n",
      " 7   Ndir     float64\n",
      " 8   Pab1     float64\n",
      " 9   Pab2     float64\n",
      " 10  Pab3     float64\n",
      " 11  Prtv     float64\n",
      " 12  Patv     float64\n",
      "dtypes: float64(10), int64(2), object(1)\n",
      "memory usage: 468.9+ MB\n"
     ]
    }
   ],
   "source": [
    "df_scada.info()"
   ]
  },
  {
   "cell_type": "code",
   "execution_count": 6,
   "id": "a8795c2e",
   "metadata": {},
   "outputs": [
    {
     "data": {
      "text/html": [
       "<div>\n",
       "<style scoped>\n",
       "    .dataframe tbody tr th:only-of-type {\n",
       "        vertical-align: middle;\n",
       "    }\n",
       "\n",
       "    .dataframe tbody tr th {\n",
       "        vertical-align: top;\n",
       "    }\n",
       "\n",
       "    .dataframe thead th {\n",
       "        text-align: right;\n",
       "    }\n",
       "</style>\n",
       "<table border=\"1\" class=\"dataframe\">\n",
       "  <thead>\n",
       "    <tr style=\"text-align: right;\">\n",
       "      <th></th>\n",
       "      <th>TurbID</th>\n",
       "      <th>Day</th>\n",
       "      <th>Wspd</th>\n",
       "      <th>Wdir</th>\n",
       "      <th>Etmp</th>\n",
       "      <th>Itmp</th>\n",
       "      <th>Ndir</th>\n",
       "      <th>Pab1</th>\n",
       "      <th>Pab2</th>\n",
       "      <th>Pab3</th>\n",
       "      <th>Prtv</th>\n",
       "      <th>Patv</th>\n",
       "    </tr>\n",
       "  </thead>\n",
       "  <tbody>\n",
       "    <tr>\n",
       "      <th>count</th>\n",
       "      <td>4.727520e+06</td>\n",
       "      <td>4.727520e+06</td>\n",
       "      <td>4.678002e+06</td>\n",
       "      <td>4.678002e+06</td>\n",
       "      <td>4.678002e+06</td>\n",
       "      <td>4.678002e+06</td>\n",
       "      <td>4.678002e+06</td>\n",
       "      <td>4.678002e+06</td>\n",
       "      <td>4.678002e+06</td>\n",
       "      <td>4.678002e+06</td>\n",
       "      <td>4.678002e+06</td>\n",
       "      <td>4.678002e+06</td>\n",
       "    </tr>\n",
       "    <tr>\n",
       "      <th>mean</th>\n",
       "      <td>6.750000e+01</td>\n",
       "      <td>1.230000e+02</td>\n",
       "      <td>5.028376e+00</td>\n",
       "      <td>4.975428e-01</td>\n",
       "      <td>4.110668e+01</td>\n",
       "      <td>2.739717e+01</td>\n",
       "      <td>1.885826e+02</td>\n",
       "      <td>2.685400e+01</td>\n",
       "      <td>2.683916e+01</td>\n",
       "      <td>2.682679e+01</td>\n",
       "      <td>-1.323900e+01</td>\n",
       "      <td>3.504458e+02</td>\n",
       "    </tr>\n",
       "    <tr>\n",
       "      <th>std</th>\n",
       "      <td>3.868139e+01</td>\n",
       "      <td>7.072483e+01</td>\n",
       "      <td>3.393703e+00</td>\n",
       "      <td>3.160275e+01</td>\n",
       "      <td>8.529011e+01</td>\n",
       "      <td>1.832832e+01</td>\n",
       "      <td>1.632459e+02</td>\n",
       "      <td>3.883566e+01</td>\n",
       "      <td>3.882940e+01</td>\n",
       "      <td>3.882235e+01</td>\n",
       "      <td>7.044244e+01</td>\n",
       "      <td>4.249932e+02</td>\n",
       "    </tr>\n",
       "    <tr>\n",
       "      <th>min</th>\n",
       "      <td>1.000000e+00</td>\n",
       "      <td>1.000000e+00</td>\n",
       "      <td>0.000000e+00</td>\n",
       "      <td>-3.030460e+03</td>\n",
       "      <td>-2.730300e+02</td>\n",
       "      <td>-2.731700e+02</td>\n",
       "      <td>-8.848600e+02</td>\n",
       "      <td>-1.000000e+01</td>\n",
       "      <td>-1.000000e+01</td>\n",
       "      <td>-1.000000e+01</td>\n",
       "      <td>-6.249800e+02</td>\n",
       "      <td>-9.330000e+00</td>\n",
       "    </tr>\n",
       "    <tr>\n",
       "      <th>25%</th>\n",
       "      <td>3.400000e+01</td>\n",
       "      <td>6.200000e+01</td>\n",
       "      <td>2.240000e+00</td>\n",
       "      <td>-3.830000e+00</td>\n",
       "      <td>1.405000e+01</td>\n",
       "      <td>2.006000e+01</td>\n",
       "      <td>6.302000e+01</td>\n",
       "      <td>1.000000e-02</td>\n",
       "      <td>1.000000e-02</td>\n",
       "      <td>1.000000e-02</td>\n",
       "      <td>-3.861000e+01</td>\n",
       "      <td>-3.000000e-01</td>\n",
       "    </tr>\n",
       "    <tr>\n",
       "      <th>50%</th>\n",
       "      <td>6.750000e+01</td>\n",
       "      <td>1.230000e+02</td>\n",
       "      <td>4.340000e+00</td>\n",
       "      <td>-2.300000e-01</td>\n",
       "      <td>2.573000e+01</td>\n",
       "      <td>3.008000e+01</td>\n",
       "      <td>1.947900e+02</td>\n",
       "      <td>5.400000e-01</td>\n",
       "      <td>5.400000e-01</td>\n",
       "      <td>5.400000e-01</td>\n",
       "      <td>-3.000000e-01</td>\n",
       "      <td>1.790800e+02</td>\n",
       "    </tr>\n",
       "    <tr>\n",
       "      <th>75%</th>\n",
       "      <td>1.010000e+02</td>\n",
       "      <td>1.840000e+02</td>\n",
       "      <td>7.010000e+00</td>\n",
       "      <td>3.420000e+00</td>\n",
       "      <td>3.273000e+01</td>\n",
       "      <td>3.682000e+01</td>\n",
       "      <td>3.219600e+02</td>\n",
       "      <td>8.399000e+01</td>\n",
       "      <td>8.398000e+01</td>\n",
       "      <td>8.398000e+01</td>\n",
       "      <td>-3.000000e-02</td>\n",
       "      <td>5.476600e+02</td>\n",
       "    </tr>\n",
       "    <tr>\n",
       "      <th>max</th>\n",
       "      <td>1.340000e+02</td>\n",
       "      <td>2.450000e+02</td>\n",
       "      <td>2.629000e+01</td>\n",
       "      <td>2.266950e+03</td>\n",
       "      <td>3.943300e+02</td>\n",
       "      <td>3.242100e+02</td>\n",
       "      <td>7.006200e+02</td>\n",
       "      <td>9.998000e+01</td>\n",
       "      <td>9.998000e+01</td>\n",
       "      <td>9.998000e+01</td>\n",
       "      <td>4.852000e+02</td>\n",
       "      <td>1.567020e+03</td>\n",
       "    </tr>\n",
       "  </tbody>\n",
       "</table>\n",
       "</div>"
      ],
      "text/plain": [
       "             TurbID           Day          Wspd          Wdir          Etmp  \\\n",
       "count  4.727520e+06  4.727520e+06  4.678002e+06  4.678002e+06  4.678002e+06   \n",
       "mean   6.750000e+01  1.230000e+02  5.028376e+00  4.975428e-01  4.110668e+01   \n",
       "std    3.868139e+01  7.072483e+01  3.393703e+00  3.160275e+01  8.529011e+01   \n",
       "min    1.000000e+00  1.000000e+00  0.000000e+00 -3.030460e+03 -2.730300e+02   \n",
       "25%    3.400000e+01  6.200000e+01  2.240000e+00 -3.830000e+00  1.405000e+01   \n",
       "50%    6.750000e+01  1.230000e+02  4.340000e+00 -2.300000e-01  2.573000e+01   \n",
       "75%    1.010000e+02  1.840000e+02  7.010000e+00  3.420000e+00  3.273000e+01   \n",
       "max    1.340000e+02  2.450000e+02  2.629000e+01  2.266950e+03  3.943300e+02   \n",
       "\n",
       "               Itmp          Ndir          Pab1          Pab2          Pab3  \\\n",
       "count  4.678002e+06  4.678002e+06  4.678002e+06  4.678002e+06  4.678002e+06   \n",
       "mean   2.739717e+01  1.885826e+02  2.685400e+01  2.683916e+01  2.682679e+01   \n",
       "std    1.832832e+01  1.632459e+02  3.883566e+01  3.882940e+01  3.882235e+01   \n",
       "min   -2.731700e+02 -8.848600e+02 -1.000000e+01 -1.000000e+01 -1.000000e+01   \n",
       "25%    2.006000e+01  6.302000e+01  1.000000e-02  1.000000e-02  1.000000e-02   \n",
       "50%    3.008000e+01  1.947900e+02  5.400000e-01  5.400000e-01  5.400000e-01   \n",
       "75%    3.682000e+01  3.219600e+02  8.399000e+01  8.398000e+01  8.398000e+01   \n",
       "max    3.242100e+02  7.006200e+02  9.998000e+01  9.998000e+01  9.998000e+01   \n",
       "\n",
       "               Prtv          Patv  \n",
       "count  4.678002e+06  4.678002e+06  \n",
       "mean  -1.323900e+01  3.504458e+02  \n",
       "std    7.044244e+01  4.249932e+02  \n",
       "min   -6.249800e+02 -9.330000e+00  \n",
       "25%   -3.861000e+01 -3.000000e-01  \n",
       "50%   -3.000000e-01  1.790800e+02  \n",
       "75%   -3.000000e-02  5.476600e+02  \n",
       "max    4.852000e+02  1.567020e+03  "
      ]
     },
     "execution_count": 6,
     "metadata": {},
     "output_type": "execute_result"
    }
   ],
   "source": [
    "df_scada.describe()"
   ]
  },
  {
   "cell_type": "code",
   "execution_count": 7,
   "id": "97eb795b",
   "metadata": {},
   "outputs": [
    {
     "data": {
      "text/plain": [
       "134"
      ]
     },
     "execution_count": 7,
     "metadata": {},
     "output_type": "execute_result"
    }
   ],
   "source": [
    "# Identify number of unique turbines in data\n",
    "df_scada['TurbID'].nunique()"
   ]
  },
  {
   "cell_type": "markdown",
   "id": "a757e3f1",
   "metadata": {},
   "source": [
    "##### Explore location data"
   ]
  },
  {
   "cell_type": "code",
   "execution_count": 8,
   "id": "4bb1dc5a",
   "metadata": {},
   "outputs": [
    {
     "data": {
      "text/html": [
       "<div>\n",
       "<style scoped>\n",
       "    .dataframe tbody tr th:only-of-type {\n",
       "        vertical-align: middle;\n",
       "    }\n",
       "\n",
       "    .dataframe tbody tr th {\n",
       "        vertical-align: top;\n",
       "    }\n",
       "\n",
       "    .dataframe thead th {\n",
       "        text-align: right;\n",
       "    }\n",
       "</style>\n",
       "<table border=\"1\" class=\"dataframe\">\n",
       "  <thead>\n",
       "    <tr style=\"text-align: right;\">\n",
       "      <th></th>\n",
       "      <th>TurbID</th>\n",
       "      <th>x</th>\n",
       "      <th>y</th>\n",
       "    </tr>\n",
       "  </thead>\n",
       "  <tbody>\n",
       "    <tr>\n",
       "      <th>0</th>\n",
       "      <td>1</td>\n",
       "      <td>3349.8515</td>\n",
       "      <td>5939.23193</td>\n",
       "    </tr>\n",
       "    <tr>\n",
       "      <th>1</th>\n",
       "      <td>2</td>\n",
       "      <td>3351.0017</td>\n",
       "      <td>6416.64673</td>\n",
       "    </tr>\n",
       "    <tr>\n",
       "      <th>2</th>\n",
       "      <td>3</td>\n",
       "      <td>3314.7797</td>\n",
       "      <td>6892.18395</td>\n",
       "    </tr>\n",
       "    <tr>\n",
       "      <th>3</th>\n",
       "      <td>4</td>\n",
       "      <td>3352.0940</td>\n",
       "      <td>7366.14203</td>\n",
       "    </tr>\n",
       "    <tr>\n",
       "      <th>4</th>\n",
       "      <td>5</td>\n",
       "      <td>3355.3420</td>\n",
       "      <td>7841.20175</td>\n",
       "    </tr>\n",
       "  </tbody>\n",
       "</table>\n",
       "</div>"
      ],
      "text/plain": [
       "   TurbID          x           y\n",
       "0       1  3349.8515  5939.23193\n",
       "1       2  3351.0017  6416.64673\n",
       "2       3  3314.7797  6892.18395\n",
       "3       4  3352.0940  7366.14203\n",
       "4       5  3355.3420  7841.20175"
      ]
     },
     "execution_count": 8,
     "metadata": {},
     "output_type": "execute_result"
    }
   ],
   "source": [
    "df_loc.head()"
   ]
  },
  {
   "cell_type": "code",
   "execution_count": 9,
   "id": "015819a7",
   "metadata": {},
   "outputs": [
    {
     "name": "stdout",
     "output_type": "stream",
     "text": [
      "<class 'pandas.core.frame.DataFrame'>\n",
      "RangeIndex: 134 entries, 0 to 133\n",
      "Data columns (total 3 columns):\n",
      " #   Column  Non-Null Count  Dtype  \n",
      "---  ------  --------------  -----  \n",
      " 0   TurbID  134 non-null    int64  \n",
      " 1   x       134 non-null    float64\n",
      " 2   y       134 non-null    float64\n",
      "dtypes: float64(2), int64(1)\n",
      "memory usage: 3.3 KB\n"
     ]
    }
   ],
   "source": [
    "df_loc.info()"
   ]
  },
  {
   "cell_type": "code",
   "execution_count": 10,
   "id": "26f37bd9",
   "metadata": {},
   "outputs": [
    {
     "data": {
      "text/plain": [
       "(4727520, 13)"
      ]
     },
     "execution_count": 10,
     "metadata": {},
     "output_type": "execute_result"
    }
   ],
   "source": [
    "df_scada.shape"
   ]
  },
  {
   "cell_type": "markdown",
   "id": "a9691eda",
   "metadata": {},
   "source": [
    "### Data Preprocessing"
   ]
  },
  {
   "cell_type": "code",
   "execution_count": 11,
   "id": "88dc327e",
   "metadata": {},
   "outputs": [
    {
     "data": {
      "text/plain": [
       "Index(['TurbID', 'Day', 'Tmstamp', 'Wspd', 'Wdir', 'Etmp', 'Itmp', 'Ndir',\n",
       "       'Pab1', 'Pab2', 'Pab3', 'Prtv', 'Patv'],\n",
       "      dtype='object')"
      ]
     },
     "execution_count": 11,
     "metadata": {},
     "output_type": "execute_result"
    }
   ],
   "source": [
    "df_scada.columns"
   ]
  },
  {
   "cell_type": "markdown",
   "id": "c382c901",
   "metadata": {},
   "source": [
    "##### Extract desired features"
   ]
  },
  {
   "cell_type": "code",
   "execution_count": 12,
   "id": "a7310210",
   "metadata": {},
   "outputs": [],
   "source": [
    "dff_scada = df_scada[['TurbID',  'Day', 'Tmstamp', 'Wspd', 'Wdir', 'Ndir', 'Patv']]"
   ]
  },
  {
   "cell_type": "code",
   "execution_count": 13,
   "id": "9112ea94",
   "metadata": {},
   "outputs": [
    {
     "data": {
      "text/plain": [
       "(4727520, 7)"
      ]
     },
     "execution_count": 13,
     "metadata": {},
     "output_type": "execute_result"
    }
   ],
   "source": [
    "dff_scada.shape"
   ]
  },
  {
   "cell_type": "code",
   "execution_count": 14,
   "id": "1dbcd814",
   "metadata": {},
   "outputs": [
    {
     "data": {
      "text/plain": [
       "134"
      ]
     },
     "execution_count": 14,
     "metadata": {},
     "output_type": "execute_result"
    }
   ],
   "source": [
    "dff_scada.TurbID.nunique()"
   ]
  },
  {
   "cell_type": "code",
   "execution_count": 15,
   "id": "a2b8417f",
   "metadata": {},
   "outputs": [
    {
     "data": {
      "text/plain": [
       "245"
      ]
     },
     "execution_count": 15,
     "metadata": {},
     "output_type": "execute_result"
    }
   ],
   "source": [
    "dff_scada.Day.nunique()"
   ]
  },
  {
   "cell_type": "markdown",
   "id": "e7428deb",
   "metadata": {},
   "source": [
    "##### Data Cleaning"
   ]
  },
  {
   "cell_type": "code",
   "execution_count": 16,
   "id": "f953d421",
   "metadata": {},
   "outputs": [
    {
     "data": {
      "image/png": "[encoded data removed]",
      "text/plain": [
       "<Figure size 720x216 with 2 Axes>"
      ]
     },
     "metadata": {
      "needs_background": "light"
     },
     "output_type": "display_data"
    }
   ],
   "source": [
    "# Investigate missing values\n",
    "# Create custom color map\n",
    "from matplotlib.colors import LinearSegmentedColormap\n",
    "\n",
    "myColors = ((0.0, 0.8, 0.0, 1.0), (0.8, 0.0, 0.0, 1.0))\n",
    "cmap = LinearSegmentedColormap.from_list('Custom', myColors, len(myColors))\n",
    "\n",
    "# Plot heatmap\n",
    "plt.figure(figsize=(10, 3))\n",
    "sns.set_style(style='white')\n",
    "ax = sns.heatmap(dff_scada.isna().astype(int)+1, cmap=cmap);\n",
    "\n",
    "# Post-process visualization\n",
    "plt.xticks(fontsize=12)\n",
    "plt.yticks(fontsize=12)\n",
    "\n",
    "colorbar = ax.collections[0].colorbar\n",
    "colorbar.set_ticks([1.2, 1.8])\n",
    "colorbar.set_ticklabels(['Available', 'Missing'], fontsize=12)"
   ]
  },
  {
   "cell_type": "code",
   "execution_count": 17,
   "id": "cb470a87",
   "metadata": {},
   "outputs": [
    {
     "name": "stdout",
     "output_type": "stream",
     "text": [
      "1.05% of original rows were removed\n"
     ]
    }
   ],
   "source": [
    "# Remove rows missing values\n",
    "original_length = dff_scada.shape[0]\n",
    "dff_scada = dff_scada.dropna()\n",
    "dff_scada.reset_index(drop=True)\n",
    "print(f'{round((original_length-dff_scada.shape[0])/original_length*100, 2)}% of original rows were removed')"
   ]
  },
  {
   "cell_type": "code",
   "execution_count": 18,
   "id": "5533066b",
   "metadata": {},
   "outputs": [
    {
     "data": {
      "image/png": "[encoded data removed]",
      "text/plain": [
       "<Figure size 720x216 with 2 Axes>"
      ]
     },
     "metadata": {},
     "output_type": "display_data"
    }
   ],
   "source": [
    "myColors = ((0.0, 0.8, 0.0, 1.0), (0.8, 0.0, 0.0, 1.0))\n",
    "cmap = LinearSegmentedColormap.from_list('Custom', myColors, len(myColors))\n",
    "\n",
    "plt.figure(figsize=(10,3))\n",
    "ax = sns.heatmap(dff_scada.isna().astype(int)+1, cmap=cmap, rasterized=True);\n",
    "plt.xticks(fontsize=12)\n",
    "plt.yticks(fontsize=12)\n",
    "colorbar = ax.collections[0].colorbar\n",
    "colorbar.set_ticks([0.95, 1.05])\n",
    "colorbar.set_ticklabels(['Available', 'Missing'], fontsize=12)"
   ]
  },
  {
   "cell_type": "markdown",
   "id": "7ed73d6b",
   "metadata": {},
   "source": [
    "##### Process time features"
   ]
  },
  {
   "cell_type": "code",
   "execution_count": 19,
   "id": "75f94f6d",
   "metadata": {},
   "outputs": [
    {
     "name": "stdout",
     "output_type": "stream",
     "text": [
      "CPU times: total: 1min 14s\n",
      "Wall time: 1min 15s\n"
     ]
    }
   ],
   "source": [
    "%%time\n",
    "dff_scada['date_time'] = dff_scada[['Day', 'Tmstamp']].apply(lambda x: str(x[0]) + 'T' +str(x[1]), axis=1)"
   ]
  },
  {
   "cell_type": "code",
   "execution_count": 20,
   "id": "8050a77b",
   "metadata": {},
   "outputs": [
    {
     "data": {
      "text/plain": [
       "35016"
      ]
     },
     "execution_count": 20,
     "metadata": {},
     "output_type": "execute_result"
    }
   ],
   "source": [
    "dff_scada['date_time'].nunique()"
   ]
  },
  {
   "cell_type": "markdown",
   "id": "66003eb1",
   "metadata": {},
   "source": [
    "##### Assign turbines to columns based on x location data"
   ]
  },
  {
   "cell_type": "code",
   "execution_count": 21,
   "id": "95506225",
   "metadata": {},
   "outputs": [],
   "source": [
    "df_loc['x_round'] = df_loc['x'].round(-3)"
   ]
  },
  {
   "cell_type": "code",
   "execution_count": 22,
   "id": "ae0dddf9",
   "metadata": {},
   "outputs": [],
   "source": [
    "df_loc['col_num'] = df_loc['x_round'].apply(lambda xx: 'c_0' if xx == 0 else 'c_1' if xx == 1000 else 'c_2' if xx == 2000 else 'c_3' if xx == 3000 else 'c_4' if xx == 4000 else 'c_5')"
   ]
  },
  {
   "cell_type": "markdown",
   "id": "0cdacf2f",
   "metadata": {},
   "source": [
    "##### Data Filtering"
   ]
  },
  {
   "cell_type": "code",
   "execution_count": 23,
   "id": "530cd2b6",
   "metadata": {},
   "outputs": [
    {
     "data": {
      "image/png": "[encoded data removed]",
      "text/plain": [
       "<Figure size 288x288 with 1 Axes>"
      ]
     },
     "metadata": {},
     "output_type": "display_data"
    }
   ],
   "source": [
    "# Visualize raw power curve data\n",
    "plt.figure(figsize=(4,4))\n",
    "sns.scatterplot(x='Wspd', y='Patv', data=dff_scada);\n",
    "plt.xlabel('Wind Speed (m/s)', fontsize=14)\n",
    "plt.ylabel('Power (kW)', fontsize=14);\n",
    "plt.xticks(fontsize=12)\n",
    "plt.yticks(fontsize=12);"
   ]
  },
  {
   "cell_type": "code",
   "execution_count": 24,
   "id": "b2c61ba5",
   "metadata": {},
   "outputs": [],
   "source": [
    "cut_in_speed = 2.85"
   ]
  },
  {
   "cell_type": "code",
   "execution_count": 25,
   "id": "91e22844",
   "metadata": {},
   "outputs": [
    {
     "name": "stdout",
     "output_type": "stream",
     "text": [
      "CPU times: total: 234 ms\n",
      "Wall time: 228 ms\n"
     ]
    }
   ],
   "source": [
    "%%time\n",
    "# Remove obvious abnormal points from data\n",
    "ab_ind = dff_scada[(dff_scada['Wspd'] < cut_in_speed) & (dff_scada['Patv'] > 100)].index"
   ]
  },
  {
   "cell_type": "code",
   "execution_count": 26,
   "id": "89ede670",
   "metadata": {},
   "outputs": [],
   "source": [
    "norm_ind = list(set(dff_scada.index).difference(set(ab_ind)))"
   ]
  },
  {
   "cell_type": "code",
   "execution_count": 27,
   "id": "126f743e",
   "metadata": {},
   "outputs": [],
   "source": [
    "assert len(dff_scada) == len(norm_ind) + len(ab_ind)"
   ]
  },
  {
   "cell_type": "code",
   "execution_count": 28,
   "id": "6b8a73ec",
   "metadata": {},
   "outputs": [],
   "source": [
    "scada_data = dff_scada.loc[norm_ind, :]"
   ]
  },
  {
   "cell_type": "code",
   "execution_count": 29,
   "id": "db6a7598",
   "metadata": {},
   "outputs": [
    {
     "data": {
      "text/plain": [
       "(4650478, 8)"
      ]
     },
     "execution_count": 29,
     "metadata": {},
     "output_type": "execute_result"
    }
   ],
   "source": [
    "scada_data.shape"
   ]
  },
  {
   "cell_type": "markdown",
   "id": "c2474276",
   "metadata": {},
   "source": [
    "##### Employ power curve filter to remove non-obvious abnormal points"
   ]
  },
  {
   "cell_type": "code",
   "execution_count": 30,
   "id": "2948c591",
   "metadata": {},
   "outputs": [],
   "source": [
    "pc_filter = PowerCurveFiltering(turbine_label='TurbID', windspeed_label='Wspd',\n",
    "                                power_label='Patv', data=scada_data, cut_in_speed=cut_in_speed, bin_interval=0.5,\n",
    "                                z_coeff=1.5, filter_cycle=15, return_fig=False)"
   ]
  },
  {
   "cell_type": "code",
   "execution_count": 31,
   "id": "d910c22d",
   "metadata": {},
   "outputs": [
    {
     "name": "stdout",
     "output_type": "stream",
     "text": [
      "CPU times: total: 3min 28s\n",
      "Wall time: 3min 30s\n"
     ]
    }
   ],
   "source": [
    "%%time\n",
    "cleaned_scada_df, _ = pc_filter.process()"
   ]
  },
  {
   "cell_type": "code",
   "execution_count": 32,
   "id": "79375484",
   "metadata": {},
   "outputs": [
    {
     "data": {
      "text/plain": [
       "(1899031, 8)"
      ]
     },
     "execution_count": 32,
     "metadata": {},
     "output_type": "execute_result"
    }
   ],
   "source": [
    "cleaned_scada_df.shape"
   ]
  },
  {
   "cell_type": "code",
   "execution_count": 33,
   "id": "2447654d",
   "metadata": {},
   "outputs": [
    {
     "data": {
      "image/png": "[encoded data removed]",
      "text/plain": [
       "<Figure size 288x288 with 1 Axes>"
      ]
     },
     "metadata": {},
     "output_type": "display_data"
    }
   ],
   "source": [
    "# Visualize cleaned power data\n",
    "\n",
    "plt.figure(figsize=(4,4))\n",
    "sns.scatterplot(x='Wspd', y='Patv', data=cleaned_scada_df);\n",
    "plt.xlabel('Wind Speed (m/s)', fontsize=14)\n",
    "plt.ylabel('Power (kW)', fontsize=14);\n",
    "plt.xticks(fontsize=12)\n",
    "plt.yticks(fontsize=12);"
   ]
  },
  {
   "cell_type": "markdown",
   "id": "58f01ee4",
   "metadata": {},
   "source": [
    "##### Map turbine column locations to clean scada data"
   ]
  },
  {
   "cell_type": "code",
   "execution_count": 34,
   "id": "6d5fb9a8",
   "metadata": {},
   "outputs": [],
   "source": [
    "cleaned_scada_df['col_num'] = cleaned_scada_df['TurbID'].replace(df_loc.set_index('TurbID')['col_num']).values"
   ]
  },
  {
   "cell_type": "markdown",
   "id": "83d4206f",
   "metadata": {},
   "source": [
    "##### Create test data for representativeness evaluation"
   ]
  },
  {
   "cell_type": "code",
   "execution_count": 35,
   "id": "5a53d8ff",
   "metadata": {},
   "outputs": [
    {
     "name": "stdout",
     "output_type": "stream",
     "text": [
      "The test data contains 19940 rows which is 1.05% of the cleaned dataset\n"
     ]
    }
   ],
   "source": [
    "# Create test data from cleaned SCADA data\n",
    "df_cleaned_scada_test = cleaned_scada_df.sample(frac=0.0105, random_state=32)\n",
    "train_ind = list(set(cleaned_scada_df.index).difference(set(df_cleaned_scada_test.index)))\n",
    "cleaned_scada_data = cleaned_scada_df.loc[train_ind, :]\n",
    "print('The test data contains', f'{df_cleaned_scada_test.shape[0]} rows', 'which is', \n",
    "      f'{round((df_cleaned_scada_test.shape[0]/cleaned_scada_df.shape[0])*100,2)}% of the cleaned dataset')"
   ]
  },
  {
   "cell_type": "code",
   "execution_count": 36,
   "id": "86860203",
   "metadata": {},
   "outputs": [],
   "source": [
    "df_cleaned_scada_test = df_cleaned_scada_test.reset_index(drop=True)"
   ]
  },
  {
   "cell_type": "markdown",
   "id": "9310b4c0",
   "metadata": {},
   "source": [
    "##### Training data transformation"
   ]
  },
  {
   "cell_type": "code",
   "execution_count": 37,
   "id": "1a156c1a",
   "metadata": {},
   "outputs": [
    {
     "name": "stdout",
     "output_type": "stream",
     "text": [
      "CPU times: total: 1.08 s\n",
      "Wall time: 1.09 s\n"
     ]
    }
   ],
   "source": [
    "%%time\n",
    "X_ws_df = pd.pivot_table(cleaned_scada_data, values='Wspd', index=['TurbID'], columns=['date_time'], aggfunc=np.mean)"
   ]
  },
  {
   "cell_type": "code",
   "execution_count": 38,
   "id": "afc2de99",
   "metadata": {},
   "outputs": [],
   "source": [
    "X_ws_df.dropna(axis=1, inplace=True)"
   ]
  },
  {
   "cell_type": "code",
   "execution_count": 39,
   "id": "0af48df3",
   "metadata": {},
   "outputs": [
    {
     "data": {
      "text/html": [
       "<div>\n",
       "<style scoped>\n",
       "    .dataframe tbody tr th:only-of-type {\n",
       "        vertical-align: middle;\n",
       "    }\n",
       "\n",
       "    .dataframe tbody tr th {\n",
       "        vertical-align: top;\n",
       "    }\n",
       "\n",
       "    .dataframe thead th {\n",
       "        text-align: right;\n",
       "    }\n",
       "</style>\n",
       "<table border=\"1\" class=\"dataframe\">\n",
       "  <thead>\n",
       "    <tr style=\"text-align: right;\">\n",
       "      <th>date_time</th>\n",
       "      <th>100T08:20</th>\n",
       "      <th>100T09:40</th>\n",
       "      <th>100T10:10</th>\n",
       "      <th>100T10:40</th>\n",
       "      <th>103T08:00</th>\n",
       "      <th>103T17:40</th>\n",
       "      <th>103T22:40</th>\n",
       "      <th>103T22:50</th>\n",
       "      <th>104T00:20</th>\n",
       "      <th>104T00:30</th>\n",
       "      <th>...</th>\n",
       "      <th>99T06:00</th>\n",
       "      <th>9T00:20</th>\n",
       "      <th>9T00:30</th>\n",
       "      <th>9T00:50</th>\n",
       "      <th>9T09:40</th>\n",
       "      <th>9T10:00</th>\n",
       "      <th>9T10:20</th>\n",
       "      <th>9T10:50</th>\n",
       "      <th>9T11:00</th>\n",
       "      <th>9T11:10</th>\n",
       "    </tr>\n",
       "    <tr>\n",
       "      <th>TurbID</th>\n",
       "      <th></th>\n",
       "      <th></th>\n",
       "      <th></th>\n",
       "      <th></th>\n",
       "      <th></th>\n",
       "      <th></th>\n",
       "      <th></th>\n",
       "      <th></th>\n",
       "      <th></th>\n",
       "      <th></th>\n",
       "      <th></th>\n",
       "      <th></th>\n",
       "      <th></th>\n",
       "      <th></th>\n",
       "      <th></th>\n",
       "      <th></th>\n",
       "      <th></th>\n",
       "      <th></th>\n",
       "      <th></th>\n",
       "      <th></th>\n",
       "      <th></th>\n",
       "    </tr>\n",
       "  </thead>\n",
       "  <tbody>\n",
       "    <tr>\n",
       "      <th>1</th>\n",
       "      <td>1.19</td>\n",
       "      <td>1.24</td>\n",
       "      <td>0.94</td>\n",
       "      <td>1.02</td>\n",
       "      <td>0.83</td>\n",
       "      <td>1.26</td>\n",
       "      <td>1.29</td>\n",
       "      <td>1.30</td>\n",
       "      <td>0.66</td>\n",
       "      <td>0.85</td>\n",
       "      <td>...</td>\n",
       "      <td>1.74</td>\n",
       "      <td>0.81</td>\n",
       "      <td>0.67</td>\n",
       "      <td>0.17</td>\n",
       "      <td>0.98</td>\n",
       "      <td>0.74</td>\n",
       "      <td>1.03</td>\n",
       "      <td>1.17</td>\n",
       "      <td>1.09</td>\n",
       "      <td>1.30</td>\n",
       "    </tr>\n",
       "    <tr>\n",
       "      <th>2</th>\n",
       "      <td>1.38</td>\n",
       "      <td>1.32</td>\n",
       "      <td>1.08</td>\n",
       "      <td>0.71</td>\n",
       "      <td>0.61</td>\n",
       "      <td>1.20</td>\n",
       "      <td>1.21</td>\n",
       "      <td>1.24</td>\n",
       "      <td>0.61</td>\n",
       "      <td>0.75</td>\n",
       "      <td>...</td>\n",
       "      <td>1.57</td>\n",
       "      <td>0.97</td>\n",
       "      <td>0.80</td>\n",
       "      <td>0.30</td>\n",
       "      <td>1.24</td>\n",
       "      <td>0.82</td>\n",
       "      <td>1.17</td>\n",
       "      <td>1.35</td>\n",
       "      <td>1.54</td>\n",
       "      <td>1.29</td>\n",
       "    </tr>\n",
       "    <tr>\n",
       "      <th>3</th>\n",
       "      <td>1.55</td>\n",
       "      <td>1.15</td>\n",
       "      <td>1.02</td>\n",
       "      <td>0.58</td>\n",
       "      <td>1.82</td>\n",
       "      <td>1.24</td>\n",
       "      <td>1.05</td>\n",
       "      <td>0.90</td>\n",
       "      <td>0.96</td>\n",
       "      <td>0.82</td>\n",
       "      <td>...</td>\n",
       "      <td>1.21</td>\n",
       "      <td>0.89</td>\n",
       "      <td>0.62</td>\n",
       "      <td>0.64</td>\n",
       "      <td>1.01</td>\n",
       "      <td>1.32</td>\n",
       "      <td>1.49</td>\n",
       "      <td>1.43</td>\n",
       "      <td>1.02</td>\n",
       "      <td>1.60</td>\n",
       "    </tr>\n",
       "    <tr>\n",
       "      <th>4</th>\n",
       "      <td>1.21</td>\n",
       "      <td>1.18</td>\n",
       "      <td>1.21</td>\n",
       "      <td>0.78</td>\n",
       "      <td>0.53</td>\n",
       "      <td>1.14</td>\n",
       "      <td>1.20</td>\n",
       "      <td>1.15</td>\n",
       "      <td>0.46</td>\n",
       "      <td>1.00</td>\n",
       "      <td>...</td>\n",
       "      <td>1.46</td>\n",
       "      <td>1.22</td>\n",
       "      <td>1.01</td>\n",
       "      <td>0.36</td>\n",
       "      <td>1.15</td>\n",
       "      <td>0.71</td>\n",
       "      <td>1.11</td>\n",
       "      <td>1.39</td>\n",
       "      <td>1.55</td>\n",
       "      <td>1.84</td>\n",
       "    </tr>\n",
       "    <tr>\n",
       "      <th>5</th>\n",
       "      <td>1.23</td>\n",
       "      <td>1.25</td>\n",
       "      <td>1.20</td>\n",
       "      <td>0.75</td>\n",
       "      <td>0.38</td>\n",
       "      <td>1.00</td>\n",
       "      <td>1.06</td>\n",
       "      <td>1.00</td>\n",
       "      <td>0.52</td>\n",
       "      <td>0.85</td>\n",
       "      <td>...</td>\n",
       "      <td>1.35</td>\n",
       "      <td>1.14</td>\n",
       "      <td>0.95</td>\n",
       "      <td>0.38</td>\n",
       "      <td>1.11</td>\n",
       "      <td>0.83</td>\n",
       "      <td>1.16</td>\n",
       "      <td>0.98</td>\n",
       "      <td>1.40</td>\n",
       "      <td>1.40</td>\n",
       "    </tr>\n",
       "    <tr>\n",
       "      <th>...</th>\n",
       "      <td>...</td>\n",
       "      <td>...</td>\n",
       "      <td>...</td>\n",
       "      <td>...</td>\n",
       "      <td>...</td>\n",
       "      <td>...</td>\n",
       "      <td>...</td>\n",
       "      <td>...</td>\n",
       "      <td>...</td>\n",
       "      <td>...</td>\n",
       "      <td>...</td>\n",
       "      <td>...</td>\n",
       "      <td>...</td>\n",
       "      <td>...</td>\n",
       "      <td>...</td>\n",
       "      <td>...</td>\n",
       "      <td>...</td>\n",
       "      <td>...</td>\n",
       "      <td>...</td>\n",
       "      <td>...</td>\n",
       "      <td>...</td>\n",
       "    </tr>\n",
       "    <tr>\n",
       "      <th>130</th>\n",
       "      <td>1.47</td>\n",
       "      <td>1.22</td>\n",
       "      <td>1.07</td>\n",
       "      <td>0.56</td>\n",
       "      <td>1.27</td>\n",
       "      <td>0.50</td>\n",
       "      <td>1.01</td>\n",
       "      <td>1.16</td>\n",
       "      <td>1.52</td>\n",
       "      <td>1.60</td>\n",
       "      <td>...</td>\n",
       "      <td>1.45</td>\n",
       "      <td>1.06</td>\n",
       "      <td>0.95</td>\n",
       "      <td>0.91</td>\n",
       "      <td>0.64</td>\n",
       "      <td>0.84</td>\n",
       "      <td>0.77</td>\n",
       "      <td>1.62</td>\n",
       "      <td>1.56</td>\n",
       "      <td>1.81</td>\n",
       "    </tr>\n",
       "    <tr>\n",
       "      <th>131</th>\n",
       "      <td>1.62</td>\n",
       "      <td>1.65</td>\n",
       "      <td>0.90</td>\n",
       "      <td>0.97</td>\n",
       "      <td>1.25</td>\n",
       "      <td>0.41</td>\n",
       "      <td>1.11</td>\n",
       "      <td>1.04</td>\n",
       "      <td>1.59</td>\n",
       "      <td>0.99</td>\n",
       "      <td>...</td>\n",
       "      <td>2.20</td>\n",
       "      <td>1.00</td>\n",
       "      <td>0.93</td>\n",
       "      <td>0.90</td>\n",
       "      <td>0.60</td>\n",
       "      <td>0.55</td>\n",
       "      <td>0.63</td>\n",
       "      <td>1.80</td>\n",
       "      <td>1.63</td>\n",
       "      <td>1.89</td>\n",
       "    </tr>\n",
       "    <tr>\n",
       "      <th>132</th>\n",
       "      <td>1.31</td>\n",
       "      <td>0.94</td>\n",
       "      <td>1.15</td>\n",
       "      <td>0.51</td>\n",
       "      <td>1.72</td>\n",
       "      <td>0.59</td>\n",
       "      <td>1.29</td>\n",
       "      <td>1.17</td>\n",
       "      <td>1.56</td>\n",
       "      <td>1.42</td>\n",
       "      <td>...</td>\n",
       "      <td>1.11</td>\n",
       "      <td>0.92</td>\n",
       "      <td>1.03</td>\n",
       "      <td>0.87</td>\n",
       "      <td>0.55</td>\n",
       "      <td>0.68</td>\n",
       "      <td>0.86</td>\n",
       "      <td>1.66</td>\n",
       "      <td>1.97</td>\n",
       "      <td>1.53</td>\n",
       "    </tr>\n",
       "    <tr>\n",
       "      <th>133</th>\n",
       "      <td>1.48</td>\n",
       "      <td>1.16</td>\n",
       "      <td>1.12</td>\n",
       "      <td>0.56</td>\n",
       "      <td>1.15</td>\n",
       "      <td>0.67</td>\n",
       "      <td>1.09</td>\n",
       "      <td>0.97</td>\n",
       "      <td>1.32</td>\n",
       "      <td>1.18</td>\n",
       "      <td>...</td>\n",
       "      <td>0.88</td>\n",
       "      <td>0.97</td>\n",
       "      <td>1.04</td>\n",
       "      <td>1.01</td>\n",
       "      <td>0.64</td>\n",
       "      <td>0.73</td>\n",
       "      <td>1.11</td>\n",
       "      <td>1.40</td>\n",
       "      <td>1.37</td>\n",
       "      <td>1.78</td>\n",
       "    </tr>\n",
       "    <tr>\n",
       "      <th>134</th>\n",
       "      <td>1.70</td>\n",
       "      <td>0.95</td>\n",
       "      <td>1.11</td>\n",
       "      <td>0.42</td>\n",
       "      <td>1.09</td>\n",
       "      <td>0.68</td>\n",
       "      <td>1.17</td>\n",
       "      <td>1.17</td>\n",
       "      <td>1.62</td>\n",
       "      <td>1.51</td>\n",
       "      <td>...</td>\n",
       "      <td>1.06</td>\n",
       "      <td>0.99</td>\n",
       "      <td>1.03</td>\n",
       "      <td>1.12</td>\n",
       "      <td>0.52</td>\n",
       "      <td>0.58</td>\n",
       "      <td>0.67</td>\n",
       "      <td>1.40</td>\n",
       "      <td>1.46</td>\n",
       "      <td>1.83</td>\n",
       "    </tr>\n",
       "  </tbody>\n",
       "</table>\n",
       "<p>134 rows × 850 columns</p>\n",
       "</div>"
      ],
      "text/plain": [
       "date_time  100T08:20  100T09:40  100T10:10  100T10:40  103T08:00  103T17:40  \\\n",
       "TurbID                                                                        \n",
       "1               1.19       1.24       0.94       1.02       0.83       1.26   \n",
       "2               1.38       1.32       1.08       0.71       0.61       1.20   \n",
       "3               1.55       1.15       1.02       0.58       1.82       1.24   \n",
       "4               1.21       1.18       1.21       0.78       0.53       1.14   \n",
       "5               1.23       1.25       1.20       0.75       0.38       1.00   \n",
       "...              ...        ...        ...        ...        ...        ...   \n",
       "130             1.47       1.22       1.07       0.56       1.27       0.50   \n",
       "131             1.62       1.65       0.90       0.97       1.25       0.41   \n",
       "132             1.31       0.94       1.15       0.51       1.72       0.59   \n",
       "133             1.48       1.16       1.12       0.56       1.15       0.67   \n",
       "134             1.70       0.95       1.11       0.42       1.09       0.68   \n",
       "\n",
       "date_time  103T22:40  103T22:50  104T00:20  104T00:30  ...  99T06:00  9T00:20  \\\n",
       "TurbID                                                 ...                      \n",
       "1               1.29       1.30       0.66       0.85  ...      1.74     0.81   \n",
       "2               1.21       1.24       0.61       0.75  ...      1.57     0.97   \n",
       "3               1.05       0.90       0.96       0.82  ...      1.21     0.89   \n",
       "4               1.20       1.15       0.46       1.00  ...      1.46     1.22   \n",
       "5               1.06       1.00       0.52       0.85  ...      1.35     1.14   \n",
       "...              ...        ...        ...        ...  ...       ...      ...   \n",
       "130             1.01       1.16       1.52       1.60  ...      1.45     1.06   \n",
       "131             1.11       1.04       1.59       0.99  ...      2.20     1.00   \n",
       "132             1.29       1.17       1.56       1.42  ...      1.11     0.92   \n",
       "133             1.09       0.97       1.32       1.18  ...      0.88     0.97   \n",
       "134             1.17       1.17       1.62       1.51  ...      1.06     0.99   \n",
       "\n",
       "date_time  9T00:30  9T00:50  9T09:40  9T10:00  9T10:20  9T10:50  9T11:00  \\\n",
       "TurbID                                                                     \n",
       "1             0.67     0.17     0.98     0.74     1.03     1.17     1.09   \n",
       "2             0.80     0.30     1.24     0.82     1.17     1.35     1.54   \n",
       "3             0.62     0.64     1.01     1.32     1.49     1.43     1.02   \n",
       "4             1.01     0.36     1.15     0.71     1.11     1.39     1.55   \n",
       "5             0.95     0.38     1.11     0.83     1.16     0.98     1.40   \n",
       "...            ...      ...      ...      ...      ...      ...      ...   \n",
       "130           0.95     0.91     0.64     0.84     0.77     1.62     1.56   \n",
       "131           0.93     0.90     0.60     0.55     0.63     1.80     1.63   \n",
       "132           1.03     0.87     0.55     0.68     0.86     1.66     1.97   \n",
       "133           1.04     1.01     0.64     0.73     1.11     1.40     1.37   \n",
       "134           1.03     1.12     0.52     0.58     0.67     1.40     1.46   \n",
       "\n",
       "date_time  9T11:10  \n",
       "TurbID              \n",
       "1             1.30  \n",
       "2             1.29  \n",
       "3             1.60  \n",
       "4             1.84  \n",
       "5             1.40  \n",
       "...            ...  \n",
       "130           1.81  \n",
       "131           1.89  \n",
       "132           1.53  \n",
       "133           1.78  \n",
       "134           1.83  \n",
       "\n",
       "[134 rows x 850 columns]"
      ]
     },
     "execution_count": 39,
     "metadata": {},
     "output_type": "execute_result"
    }
   ],
   "source": [
    "# Transformed windspeed data\n",
    "X_ws_df"
   ]
  },
  {
   "cell_type": "markdown",
   "id": "784c84a4",
   "metadata": {},
   "source": [
    "##### Training data scaling"
   ]
  },
  {
   "cell_type": "code",
   "execution_count": 40,
   "id": "d461ff49",
   "metadata": {},
   "outputs": [],
   "source": [
    "scale = StandardScaler()\n",
    "X_ws_df_sc = scale.fit_transform(X_ws_df)"
   ]
  },
  {
   "cell_type": "code",
   "execution_count": 41,
   "id": "aff8f197",
   "metadata": {},
   "outputs": [
    {
     "data": {
      "text/plain": [
       "(134, 850)"
      ]
     },
     "execution_count": 41,
     "metadata": {},
     "output_type": "execute_result"
    }
   ],
   "source": [
    "X_ws_df_sc.shape"
   ]
  },
  {
   "cell_type": "markdown",
   "id": "8662cd4e",
   "metadata": {},
   "source": [
    "### Cluster Modeling"
   ]
  },
  {
   "cell_type": "markdown",
   "id": "93a57480",
   "metadata": {},
   "source": [
    "#### KMeans"
   ]
  },
  {
   "cell_type": "markdown",
   "id": "a8123325",
   "metadata": {},
   "source": [
    "##### Silhouette method to determine optimal number of clusters"
   ]
  },
  {
   "cell_type": "code",
   "execution_count": 42,
   "id": "36face5d",
   "metadata": {},
   "outputs": [
    {
     "name": "stdout",
     "output_type": "stream",
     "text": [
      "CPU times: total: 3.09 s\n",
      "Wall time: 3.11 s\n"
     ]
    }
   ],
   "source": [
    "%%time\n",
    "sil_ws =[]\n",
    "for i in range(4, 25):\n",
    "    KMS_WS = KMeans(n_clusters = i, random_state=32)\n",
    "    KMS_WS.fit(X_ws_df_sc)\n",
    "    # calculates the squared error for clustered points\n",
    "    sil_ws.append(silhouette_score(X_ws_df_sc, KMS_WS.labels_))"
   ]
  },
  {
   "cell_type": "code",
   "execution_count": 43,
   "id": "8fed782e",
   "metadata": {},
   "outputs": [
    {
     "data": {
      "image/png": "[encoded data removed]",
      "text/plain": [
       "<Figure size 576x288 with 1 Axes>"
      ]
     },
     "metadata": {},
     "output_type": "display_data"
    }
   ],
   "source": [
    "ax = plt.figure(figsize=(8,4)).gca()\n",
    "plt.plot(range(4, 25), sil_ws, 'bx-', linewidth ='2', label='Kmeans')\n",
    "plt.scatter(x=6, y=max(sil_ws), marker='o', s=80, edgecolors='r', facecolors='none', linewidths=2.5)\n",
    "plt.xlabel(\"Number of Clusters\", fontsize=14)\n",
    "plt.ylabel(\"Silhouette Score\", fontsize=14)\n",
    "plt.legend(fontsize=12)\n",
    "ax.xaxis.set_major_locator(MaxNLocator(integer=True))\n",
    "plt.xticks(fontsize=12);\n",
    "plt.yticks(fontsize=12);"
   ]
  },
  {
   "cell_type": "markdown",
   "id": "41494a9b",
   "metadata": {},
   "source": [
    "##### Turbine clustering using optimal number of clusters"
   ]
  },
  {
   "cell_type": "code",
   "execution_count": 44,
   "id": "3e8230d8",
   "metadata": {},
   "outputs": [],
   "source": [
    "KMS_WS = KMeans(n_clusters = 6, random_state=32)"
   ]
  },
  {
   "cell_type": "code",
   "execution_count": 45,
   "id": "54230ef1",
   "metadata": {},
   "outputs": [
    {
     "name": "stdout",
     "output_type": "stream",
     "text": [
      "CPU times: total: 141 ms\n",
      "Wall time: 138 ms\n"
     ]
    },
    {
     "data": {
      "text/html": [
       "<style>#sk-container-id-1 {color: black;background-color: white;}#sk-container-id-1 pre{padding: 0;}#sk-container-id-1 div.sk-toggleable {background-color: white;}#sk-container-id-1 label.sk-toggleable__label {cursor: pointer;display: block;width: 100%;margin-bottom: 0;padding: 0.3em;box-sizing: border-box;text-align: center;}#sk-container-id-1 label.sk-toggleable__label-arrow:before {content: \"▸\";float: left;margin-right: 0.25em;color: #696969;}#sk-container-id-1 label.sk-toggleable__label-arrow:hover:before {color: black;}#sk-container-id-1 div.sk-estimator:hover label.sk-toggleable__label-arrow:before {color: black;}#sk-container-id-1 div.sk-toggleable__content {max-height: 0;max-width: 0;overflow: hidden;text-align: left;background-color: #f0f8ff;}#sk-container-id-1 div.sk-toggleable__content pre {margin: 0.2em;color: black;border-radius: 0.25em;background-color: #f0f8ff;}#sk-container-id-1 input.sk-toggleable__control:checked~div.sk-toggleable__content {max-height: 200px;max-width: 100%;overflow: auto;}#sk-container-id-1 input.sk-toggleable__control:checked~label.sk-toggleable__label-arrow:before {content: \"▾\";}#sk-container-id-1 div.sk-estimator input.sk-toggleable__control:checked~label.sk-toggleable__label {background-color: #d4ebff;}#sk-container-id-1 div.sk-label input.sk-toggleable__control:checked~label.sk-toggleable__label {background-color: #d4ebff;}#sk-container-id-1 input.sk-hidden--visually {border: 0;clip: rect(1px 1px 1px 1px);clip: rect(1px, 1px, 1px, 1px);height: 1px;margin: -1px;overflow: hidden;padding: 0;position: absolute;width: 1px;}#sk-container-id-1 div.sk-estimator {font-family: monospace;background-color: #f0f8ff;border: 1px dotted black;border-radius: 0.25em;box-sizing: border-box;margin-bottom: 0.5em;}#sk-container-id-1 div.sk-estimator:hover {background-color: #d4ebff;}#sk-container-id-1 div.sk-parallel-item::after {content: \"\";width: 100%;border-bottom: 1px solid gray;flex-grow: 1;}#sk-container-id-1 div.sk-label:hover label.sk-toggleable__label {background-color: #d4ebff;}#sk-container-id-1 div.sk-serial::before {content: \"\";position: absolute;border-left: 1px solid gray;box-sizing: border-box;top: 0;bottom: 0;left: 50%;z-index: 0;}#sk-container-id-1 div.sk-serial {display: flex;flex-direction: column;align-items: center;background-color: white;padding-right: 0.2em;padding-left: 0.2em;position: relative;}#sk-container-id-1 div.sk-item {position: relative;z-index: 1;}#sk-container-id-1 div.sk-parallel {display: flex;align-items: stretch;justify-content: center;background-color: white;position: relative;}#sk-container-id-1 div.sk-item::before, #sk-container-id-1 div.sk-parallel-item::before {content: \"\";position: absolute;border-left: 1px solid gray;box-sizing: border-box;top: 0;bottom: 0;left: 50%;z-index: -1;}#sk-container-id-1 div.sk-parallel-item {display: flex;flex-direction: column;z-index: 1;position: relative;background-color: white;}#sk-container-id-1 div.sk-parallel-item:first-child::after {align-self: flex-end;width: 50%;}#sk-container-id-1 div.sk-parallel-item:last-child::after {align-self: flex-start;width: 50%;}#sk-container-id-1 div.sk-parallel-item:only-child::after {width: 0;}#sk-container-id-1 div.sk-dashed-wrapped {border: 1px dashed gray;margin: 0 0.4em 0.5em 0.4em;box-sizing: border-box;padding-bottom: 0.4em;background-color: white;}#sk-container-id-1 div.sk-label label {font-family: monospace;font-weight: bold;display: inline-block;line-height: 1.2em;}#sk-container-id-1 div.sk-label-container {text-align: center;}#sk-container-id-1 div.sk-container {/* jupyter's `normalize.less` sets `[hidden] { display: none; }` but bootstrap.min.css set `[hidden] { display: none !important; }` so we also need the `!important` here to be able to override the default hidden behavior on the sphinx rendered scikit-learn.org. See: https://github.com/scikit-learn/scikit-learn/issues/21755 */display: inline-block !important;position: relative;}#sk-container-id-1 div.sk-text-repr-fallback {display: none;}</style><div id=\"sk-container-id-1\" class=\"sk-top-container\"><div class=\"sk-text-repr-fallback\"><pre>KMeans(n_clusters=6, random_state=32)</pre><b>In a Jupyter environment, please rerun this cell to show the HTML representation or trust the notebook. <br />On GitHub, the HTML representation is unable to render, please try loading this page with nbviewer.org.</b></div><div class=\"sk-container\" hidden><div class=\"sk-item\"><div class=\"sk-estimator sk-toggleable\"><input class=\"sk-toggleable__control sk-hidden--visually\" id=\"sk-estimator-id-1\" type=\"checkbox\" checked><label for=\"sk-estimator-id-1\" class=\"sk-toggleable__label sk-toggleable__label-arrow\">KMeans</label><div class=\"sk-toggleable__content\"><pre>KMeans(n_clusters=6, random_state=32)</pre></div></div></div></div></div>"
      ],
      "text/plain": [
       "KMeans(n_clusters=6, random_state=32)"
      ]
     },
     "execution_count": 45,
     "metadata": {},
     "output_type": "execute_result"
    }
   ],
   "source": [
    "%%time\n",
    "KMS_WS.fit(X_ws_df_sc)"
   ]
  },
  {
   "cell_type": "code",
   "execution_count": 46,
   "id": "7104675d",
   "metadata": {},
   "outputs": [],
   "source": [
    "X_ws_dff = X_ws_df.reset_index()"
   ]
  },
  {
   "cell_type": "code",
   "execution_count": 47,
   "id": "5974151d",
   "metadata": {},
   "outputs": [],
   "source": [
    "X_ws_dff['cluster_ws_kmeans'] = KMS_WS.predict(X_ws_df_sc)"
   ]
  },
  {
   "cell_type": "code",
   "execution_count": 48,
   "id": "b5660638",
   "metadata": {},
   "outputs": [
    {
     "name": "stdout",
     "output_type": "stream",
     "text": [
      "CPU times: total: 969 ms\n",
      "Wall time: 970 ms\n"
     ]
    }
   ],
   "source": [
    "%%time\n",
    "cleaned_scada_data['cluster_ws_kmeans'] = cleaned_scada_data['TurbID'].replace(X_ws_dff.set_index('TurbID')['cluster_ws_kmeans']).values"
   ]
  },
  {
   "cell_type": "markdown",
   "id": "c3c8c4fd",
   "metadata": {},
   "source": [
    "#### Agglomerative clustering"
   ]
  },
  {
   "cell_type": "markdown",
   "id": "fd234c8c",
   "metadata": {},
   "source": [
    "##### Silhouette method"
   ]
  },
  {
   "cell_type": "code",
   "execution_count": 49,
   "id": "e95b6620",
   "metadata": {},
   "outputs": [
    {
     "name": "stdout",
     "output_type": "stream",
     "text": [
      "CPU times: total: 109 ms\n",
      "Wall time: 111 ms\n"
     ]
    }
   ],
   "source": [
    "%%time\n",
    "sil_ws_agc =[]\n",
    "for i in range(6, 23):\n",
    "    AGC_WS = AgglomerativeClustering(n_clusters = i)\n",
    "    AGC_WS.fit(X_ws_df_sc)\n",
    "    # calculates the squared error for clustered points\n",
    "    sil_ws_agc.append(silhouette_score(X_ws_df_sc, AGC_WS.labels_))"
   ]
  },
  {
   "cell_type": "code",
   "execution_count": 50,
   "id": "07be0a4f",
   "metadata": {},
   "outputs": [
    {
     "data": {
      "image/png": "[encoded data removed]",
      "text/plain": [
       "<Figure size 576x288 with 1 Axes>"
      ]
     },
     "metadata": {},
     "output_type": "display_data"
    }
   ],
   "source": [
    "ax = plt.figure(figsize=(8,4)).gca()\n",
    "plt.plot(range(6, 23), sil_ws_agc, 'gx-', linewidth ='2', label='Agglomerative Clustering')\n",
    "plt.scatter(x=10, y=max(sil_ws_agc), marker='o', s=80, edgecolors='r', facecolors='none', linewidths=2.5)\n",
    "plt.xlabel(\"Number of Clusters\", fontsize=14)\n",
    "plt.ylabel(\"Silhouette Score\", fontsize=14)\n",
    "plt.legend(fontsize=12)\n",
    "ax.xaxis.set_major_locator(MaxNLocator(integer=True))\n",
    "plt.xticks(fontsize=12);\n",
    "plt.yticks(fontsize=12);"
   ]
  },
  {
   "cell_type": "markdown",
   "id": "18eed9c0",
   "metadata": {},
   "source": [
    "##### Turbine clustering using optimal number of clusters"
   ]
  },
  {
   "cell_type": "code",
   "execution_count": 51,
   "id": "72dcf940",
   "metadata": {},
   "outputs": [],
   "source": [
    "AGC_WS = AgglomerativeClustering(n_clusters = 10)"
   ]
  },
  {
   "cell_type": "code",
   "execution_count": 52,
   "id": "114304e3",
   "metadata": {},
   "outputs": [],
   "source": [
    "X_ws_dff['cluster_ws_agc'] = AGC_WS.fit_predict(X_ws_df_sc)"
   ]
  },
  {
   "cell_type": "code",
   "execution_count": 53,
   "id": "1a3a5208",
   "metadata": {},
   "outputs": [
    {
     "name": "stdout",
     "output_type": "stream",
     "text": [
      "CPU times: total: 969 ms\n",
      "Wall time: 963 ms\n"
     ]
    }
   ],
   "source": [
    "%%time\n",
    "cleaned_scada_data['cluster_ws_agc'] = cleaned_scada_data['TurbID'].replace(X_ws_dff.set_index('TurbID')['cluster_ws_agc']).values"
   ]
  },
  {
   "cell_type": "markdown",
   "id": "f10c8ac3",
   "metadata": {},
   "source": [
    "#### GMM"
   ]
  },
  {
   "cell_type": "code",
   "execution_count": 54,
   "id": "99d31a43",
   "metadata": {},
   "outputs": [
    {
     "name": "stdout",
     "output_type": "stream",
     "text": [
      "CPU times: total: 45.3 s\n",
      "Wall time: 45.4 s\n"
     ]
    }
   ],
   "source": [
    "%%time\n",
    "sil_ws_gmm =[]\n",
    "for i in range(7, 26):\n",
    "    GMM_WS = GaussianMixture(n_components=i, random_state=32)\n",
    "    # calculates the squared error for clustered points\n",
    "    sil_ws_gmm.append(silhouette_score(X_ws_df_sc, GMM_WS.fit_predict(X_ws_df_sc)))"
   ]
  },
  {
   "cell_type": "code",
   "execution_count": 55,
   "id": "20a16434",
   "metadata": {},
   "outputs": [
    {
     "data": {
      "image/png": "[encoded data removed]",
      "text/plain": [
       "<Figure size 576x288 with 1 Axes>"
      ]
     },
     "metadata": {},
     "output_type": "display_data"
    }
   ],
   "source": [
    "ax = plt.figure(figsize=(8,4)).gca()\n",
    "plt.plot(range(7, 26), sil_ws_gmm, 'mx-', linewidth ='2', label='Gaussian Mixture Models')\n",
    "plt.scatter(x=10, y=max(sil_ws_gmm), marker='o', s=80, edgecolors='r', facecolors='none', linewidths=2.5)\n",
    "plt.xlabel(\"Number of Clusters\", fontsize=14)\n",
    "plt.ylabel(\"Silhouette Score\", fontsize=14)\n",
    "plt.legend(fontsize=12)\n",
    "ax.xaxis.set_major_locator(MaxNLocator(integer=True))\n",
    "plt.xticks(fontsize=12);\n",
    "plt.yticks(fontsize=12);"
   ]
  },
  {
   "cell_type": "markdown",
   "id": "b32b9d2a",
   "metadata": {},
   "source": [
    "##### Turbine clustering using optimal number of clusters"
   ]
  },
  {
   "cell_type": "code",
   "execution_count": 56,
   "id": "ae121618",
   "metadata": {},
   "outputs": [],
   "source": [
    "GMM_WS = GaussianMixture(n_components=10, random_state=32)"
   ]
  },
  {
   "cell_type": "code",
   "execution_count": 57,
   "id": "539a362b",
   "metadata": {},
   "outputs": [],
   "source": [
    "X_ws_dff['cluster_ws_gmm'] = GMM_WS.fit_predict(X_ws_df_sc)"
   ]
  },
  {
   "cell_type": "code",
   "execution_count": 58,
   "id": "215edbf2",
   "metadata": {},
   "outputs": [
    {
     "name": "stdout",
     "output_type": "stream",
     "text": [
      "CPU times: total: 1 s\n",
      "Wall time: 994 ms\n"
     ]
    }
   ],
   "source": [
    "%%time\n",
    "cleaned_scada_data['cluster_ws_gmm'] = cleaned_scada_data['TurbID'].replace(X_ws_dff.set_index('TurbID')['cluster_ws_gmm']).values"
   ]
  },
  {
   "cell_type": "markdown",
   "id": "c5279feb",
   "metadata": {},
   "source": [
    "#### Affinity Propagation"
   ]
  },
  {
   "cell_type": "code",
   "execution_count": 59,
   "id": "257a84af",
   "metadata": {},
   "outputs": [
    {
     "name": "stdout",
     "output_type": "stream",
     "text": [
      "CPU times: total: 172 ms\n",
      "Wall time: 172 ms\n"
     ]
    }
   ],
   "source": [
    "%%time\n",
    "sil_ws_ap =[]\n",
    "d = [0.55, 0.6, 0.65, 0.7, 0.75, 0.8, 0.85]\n",
    "for i in d:\n",
    "    AP_WS = AffinityPropagation(damping=i, random_state=32)\n",
    "    # calculates the squared error for clustered points\n",
    "    sil_ws_ap.append(silhouette_score(X_ws_df_sc, AP_WS.fit_predict(X_ws_df_sc)))"
   ]
  },
  {
   "cell_type": "code",
   "execution_count": 60,
   "id": "de22802c",
   "metadata": {},
   "outputs": [
    {
     "data": {
      "image/png": "[encoded data removed]",
      "text/plain": [
       "<Figure size 576x288 with 1 Axes>"
      ]
     },
     "metadata": {},
     "output_type": "display_data"
    }
   ],
   "source": [
    "ax = plt.figure(figsize=(8,4)).gca()\n",
    "plt.plot(d, sil_ws_ap, 'x-', color='brown', linewidth ='2', label='Affinity Propagation')\n",
    "plt.scatter(x=0.6, y=max(sil_ws_ap), marker='o', s=80, edgecolors='r', facecolors='none', linewidths=2.5)\n",
    "plt.xlabel(\"Damping Factor\", fontsize=14)\n",
    "plt.ylabel(\"Silhouette Score\", fontsize=14)\n",
    "plt.legend(fontsize=12)\n",
    "plt.xticks(fontsize=12);\n",
    "plt.yticks(fontsize=12);"
   ]
  },
  {
   "cell_type": "markdown",
   "id": "173557c4",
   "metadata": {},
   "source": [
    "##### Turbine clustering using optimal number of clusters"
   ]
  },
  {
   "cell_type": "code",
   "execution_count": 61,
   "id": "d10d0978",
   "metadata": {},
   "outputs": [],
   "source": [
    "AP_WS = AffinityPropagation(damping=0.6, random_state=32)"
   ]
  },
  {
   "cell_type": "code",
   "execution_count": 63,
   "id": "9afd77d8",
   "metadata": {},
   "outputs": [],
   "source": [
    "X_ws_dff['cluster_ws_ap'] = AP_WS.fit_predict(X_ws_df_sc)"
   ]
  },
  {
   "cell_type": "code",
   "execution_count": 64,
   "id": "04553c74",
   "metadata": {},
   "outputs": [
    {
     "data": {
      "text/plain": [
       "array([ 1,  6,  2,  0,  3,  4,  5, 10,  8,  7,  9, 11, 12], dtype=int64)"
      ]
     },
     "execution_count": 64,
     "metadata": {},
     "output_type": "execute_result"
    }
   ],
   "source": [
    "X_ws_dff['cluster_ws_ap'].unique()"
   ]
  },
  {
   "cell_type": "code",
   "execution_count": 65,
   "id": "c83ce652",
   "metadata": {},
   "outputs": [
    {
     "name": "stdout",
     "output_type": "stream",
     "text": [
      "CPU times: total: 906 ms\n",
      "Wall time: 901 ms\n"
     ]
    }
   ],
   "source": [
    "%%time\n",
    "cleaned_scada_data['cluster_ws_ap'] = cleaned_scada_data['TurbID'].replace(X_ws_dff.set_index('TurbID')['cluster_ws_ap']).values"
   ]
  },
  {
   "cell_type": "markdown",
   "id": "8870d502",
   "metadata": {},
   "source": [
    "### Results"
   ]
  },
  {
   "cell_type": "markdown",
   "id": "47faaf31",
   "metadata": {},
   "source": [
    "##### Add cluster results to location data"
   ]
  },
  {
   "cell_type": "code",
   "execution_count": 66,
   "id": "5b2e8857",
   "metadata": {},
   "outputs": [],
   "source": [
    "df_loc_clusters = df_loc.copy()"
   ]
  },
  {
   "cell_type": "code",
   "execution_count": 67,
   "id": "e64b16a7",
   "metadata": {},
   "outputs": [],
   "source": [
    "df_loc_clusters['cluster_ws_kmeans'] = X_ws_dff['cluster_ws_kmeans']\n",
    "df_loc_clusters['cluster_ws_agc'] = X_ws_dff['cluster_ws_agc']\n",
    "df_loc_clusters['cluster_ws_gmm'] = X_ws_dff['cluster_ws_gmm']\n",
    "df_loc_clusters['cluster_ws_ap'] = X_ws_dff['cluster_ws_ap']"
   ]
  },
  {
   "cell_type": "markdown",
   "id": "6adfb2ce",
   "metadata": {},
   "source": [
    "#### Visualize clusters with location"
   ]
  },
  {
   "cell_type": "code",
   "execution_count": 69,
   "id": "21de7fc0",
   "metadata": {},
   "outputs": [
    {
     "data": {
      "image/png": "[encoded data removed]",
      "text/plain": [
       "<Figure size 648x576 with 4 Axes>"
      ]
     },
     "metadata": {},
     "output_type": "display_data"
    }
   ],
   "source": [
    "fig, axes = plt.subplots(2, 2, figsize=(9, 8))\n",
    "#Kmeans Approach\n",
    "l = sns.scatterplot(x='x', y='y', hue='cluster_ws_kmeans', data=df_loc_clusters, palette=sns.color_palette('tab20')[:6], marker=\"D\", ax=axes[0,0], legend=False)\n",
    "l.set(xticklabels=[], yticklabels=[])\n",
    "l.set_xlabel(' \\n\\n', fontsize=12);\n",
    "l.set_title('Kmeans', fontsize=13)\n",
    "l.set_ylabel('Y', fontsize=14);\n",
    "\n",
    "#AGC Approach\n",
    "m = sns.scatterplot(x='x', y='y', hue='cluster_ws_agc', data=df_loc_clusters, palette=sns.color_palette('tab20')[:10], marker=\"D\", ax=axes[0,1], legend=False)\n",
    "m.set(xticklabels=[], yticklabels=[])\n",
    "m.set_xlabel(' \\n\\n', fontsize=12);\n",
    "m.set_ylabel(' ', fontsize=14);\n",
    "m.set_title('Agglomerative Clustering', fontsize=13);\n",
    "\n",
    "#GMM Approach\n",
    "n = sns.scatterplot(x='x', y='y', hue='cluster_ws_gmm', data=df_loc_clusters, palette=sns.color_palette('tab20')[:10], marker=\"D\", ax=axes[1,0], legend=False)\n",
    "n.set(xticklabels=[], yticklabels=[])\n",
    "n.set_xlabel('X', fontsize=14);\n",
    "n.set_ylabel('Y', fontsize=14);\n",
    "n.set_title('Gausian Mixture Models', fontsize=13);\n",
    "\n",
    "#AP Approach\n",
    "p = sns.scatterplot(x='x', y='y', hue='cluster_ws_ap', data=df_loc_clusters, palette=sns.color_palette('tab20')[:13], marker=\"D\", ax=axes[1,1], legend=False)\n",
    "p.set(xticklabels=[], yticklabels=[])\n",
    "p.set_xlabel('X', fontsize=14);\n",
    "p.set_ylabel(' ', fontsize=12);\n",
    "p.set_title('Affinity Propagation', fontsize=13);\n",
    "# fig.tight_layout(h_pad=0.3)"
   ]
  },
  {
   "cell_type": "markdown",
   "id": "4622e6c5",
   "metadata": {},
   "source": [
    "### Test representativeness of clusters"
   ]
  },
  {
   "cell_type": "code",
   "execution_count": 70,
   "id": "f7dcca53",
   "metadata": {},
   "outputs": [
    {
     "name": "stdout",
     "output_type": "stream",
     "text": [
      "CPU times: total: 46.9 ms\n",
      "Wall time: 45 ms\n"
     ]
    }
   ],
   "source": [
    "%%time\n",
    "# find cluster which test turbine belongs to\n",
    "df_cleaned_scada_test.loc[:, 'cluster_ws_kmeans'] = df_cleaned_scada_test['TurbID'].replace(X_ws_dff.set_index('TurbID')['cluster_ws_kmeans']).values\n",
    "df_cleaned_scada_test.loc[:, 'cluster_ws_agc'] = df_cleaned_scada_test['TurbID'].replace(X_ws_dff.set_index('TurbID')['cluster_ws_agc']).values\n",
    "df_cleaned_scada_test.loc[:, 'cluster_ws_gmm'] = df_cleaned_scada_test['TurbID'].replace(X_ws_dff.set_index('TurbID')['cluster_ws_gmm']).values\n",
    "df_cleaned_scada_test.loc[:, 'cluster_ws_ap'] = df_cleaned_scada_test['TurbID'].replace(X_ws_dff.set_index('TurbID')['cluster_ws_ap']).values"
   ]
  },
  {
   "cell_type": "markdown",
   "id": "19ac4fe1",
   "metadata": {},
   "source": [
    "##### Estimation wind speed using different clustering algorithms"
   ]
  },
  {
   "cell_type": "code",
   "execution_count": 71,
   "id": "5c726df8",
   "metadata": {},
   "outputs": [
    {
     "name": "stdout",
     "output_type": "stream",
     "text": [
      "CPU times: total: 406 ms\n",
      "Wall time: 411 ms\n"
     ]
    }
   ],
   "source": [
    "%%time\n",
    "scada_merged_ws_kmeans = cleaned_scada_data.groupby(['cluster_ws_kmeans', 'date_time'], as_index=False)['Wspd'].mean()\n",
    "scada_merged_ws_kmeans.columns = ['cluster_ws_kmeans', 'date_time', 'Wspd_kmeans_avg']"
   ]
  },
  {
   "cell_type": "code",
   "execution_count": 72,
   "id": "10ea2f57",
   "metadata": {},
   "outputs": [
    {
     "name": "stdout",
     "output_type": "stream",
     "text": [
      "CPU times: total: 62.5 ms\n",
      "Wall time: 57 ms\n"
     ]
    }
   ],
   "source": [
    "%%time\n",
    "df_cleaned_scada_test['ws_kmeans_pred'] = df_cleaned_scada_test.merge(scada_merged_ws_kmeans, how='left', on=['cluster_ws_kmeans', 'date_time'])['Wspd_kmeans_avg']"
   ]
  },
  {
   "cell_type": "code",
   "execution_count": 73,
   "id": "3788a024",
   "metadata": {},
   "outputs": [
    {
     "name": "stdout",
     "output_type": "stream",
     "text": [
      "CPU times: total: 391 ms\n",
      "Wall time: 390 ms\n"
     ]
    }
   ],
   "source": [
    "%%time\n",
    "scada_merged_ws_agc = cleaned_scada_data.groupby(['cluster_ws_agc', 'date_time'], as_index=False)['Wspd'].mean()\n",
    "scada_merged_ws_agc.columns = ['cluster_ws_agc', 'date_time', 'Wspd_agc_avg']"
   ]
  },
  {
   "cell_type": "code",
   "execution_count": 74,
   "id": "d0147e25",
   "metadata": {},
   "outputs": [
    {
     "name": "stdout",
     "output_type": "stream",
     "text": [
      "CPU times: total: 78.1 ms\n",
      "Wall time: 88 ms\n"
     ]
    }
   ],
   "source": [
    "%%time\n",
    "df_cleaned_scada_test['ws_agc_pred'] = df_cleaned_scada_test.merge(scada_merged_ws_agc, how='left', on=['cluster_ws_agc', 'date_time'])['Wspd_agc_avg']"
   ]
  },
  {
   "cell_type": "code",
   "execution_count": 75,
   "id": "42330862",
   "metadata": {},
   "outputs": [
    {
     "name": "stdout",
     "output_type": "stream",
     "text": [
      "CPU times: total: 359 ms\n",
      "Wall time: 374 ms\n"
     ]
    }
   ],
   "source": [
    "%%time\n",
    "scada_merged_ws_gmm = cleaned_scada_data.groupby(['cluster_ws_gmm', 'date_time'], as_index=False)['Wspd'].mean()\n",
    "scada_merged_ws_gmm.columns = ['cluster_ws_gmm', 'date_time', 'Wspd_gmm_avg']"
   ]
  },
  {
   "cell_type": "code",
   "execution_count": 76,
   "id": "c7d66ec8",
   "metadata": {},
   "outputs": [
    {
     "name": "stdout",
     "output_type": "stream",
     "text": [
      "CPU times: total: 93.8 ms\n",
      "Wall time: 94 ms\n"
     ]
    }
   ],
   "source": [
    "%%time\n",
    "df_cleaned_scada_test['ws_gmm_pred'] = df_cleaned_scada_test.merge(scada_merged_ws_gmm, how='left', on=['cluster_ws_gmm', 'date_time'])['Wspd_gmm_avg']"
   ]
  },
  {
   "cell_type": "code",
   "execution_count": 77,
   "id": "f5c70ad1",
   "metadata": {},
   "outputs": [
    {
     "name": "stdout",
     "output_type": "stream",
     "text": [
      "CPU times: total: 375 ms\n",
      "Wall time: 373 ms\n"
     ]
    }
   ],
   "source": [
    "%%time\n",
    "scada_merged_ws_ap = cleaned_scada_data.groupby(['cluster_ws_ap', 'date_time'], as_index=False)['Wspd'].mean()\n",
    "scada_merged_ws_ap.columns = ['cluster_ws_ap', 'date_time', 'Wspd_ap_avg']"
   ]
  },
  {
   "cell_type": "code",
   "execution_count": 78,
   "id": "d64812b1",
   "metadata": {},
   "outputs": [
    {
     "name": "stdout",
     "output_type": "stream",
     "text": [
      "CPU times: total: 109 ms\n",
      "Wall time: 104 ms\n"
     ]
    }
   ],
   "source": [
    "%%time\n",
    "df_cleaned_scada_test['ws_ap_pred'] = df_cleaned_scada_test.merge(scada_merged_ws_ap, how='left', on=['cluster_ws_ap', 'date_time'])['Wspd_ap_avg']"
   ]
  },
  {
   "cell_type": "markdown",
   "id": "e5b69e8f",
   "metadata": {},
   "source": [
    "##### Extract only rows with prediction of wind speed for evaluation (non-NA rows)"
   ]
  },
  {
   "cell_type": "code",
   "execution_count": 79,
   "id": "e8e0c0cb",
   "metadata": {},
   "outputs": [
    {
     "name": "stdout",
     "output_type": "stream",
     "text": [
      "The Kmeans clustering method fills 98.8 % of original missing data\n"
     ]
    }
   ],
   "source": [
    "print('The Kmeans clustering method fills',round(len(df_cleaned_scada_test['ws_kmeans_pred'].dropna())/len(df_cleaned_scada_test)*100, 1),'% of original missing data')"
   ]
  },
  {
   "cell_type": "code",
   "execution_count": 80,
   "id": "417a671d",
   "metadata": {},
   "outputs": [
    {
     "name": "stdout",
     "output_type": "stream",
     "text": [
      "The Agglomerative clustering method fills 97.1 % of original missing data\n"
     ]
    }
   ],
   "source": [
    "print('The Agglomerative clustering method fills',round(len(df_cleaned_scada_test['ws_agc_pred'].dropna())/len(df_cleaned_scada_test)*100, 1),'% of original missing data')"
   ]
  },
  {
   "cell_type": "code",
   "execution_count": 81,
   "id": "bb29f549",
   "metadata": {},
   "outputs": [
    {
     "name": "stdout",
     "output_type": "stream",
     "text": [
      "The Gaussian Mixture Model clustering method fills 96.7 % of original missing data\n"
     ]
    }
   ],
   "source": [
    "print('The Gaussian Mixture Model clustering method fills', round(len(df_cleaned_scada_test['ws_gmm_pred'].dropna())/len(df_cleaned_scada_test)*100, 1),'% of original missing data')"
   ]
  },
  {
   "cell_type": "code",
   "execution_count": 82,
   "id": "97c95d2e",
   "metadata": {},
   "outputs": [
    {
     "name": "stdout",
     "output_type": "stream",
     "text": [
      "The Affinity Propagation clustering method fills 95.6 % of original missing data\n"
     ]
    }
   ],
   "source": [
    "print('The Affinity Propagation clustering method fills', round(len(df_cleaned_scada_test['ws_ap_pred'].dropna())/len(df_cleaned_scada_test)*100, 1),'% of original missing data')"
   ]
  },
  {
   "cell_type": "code",
   "execution_count": 83,
   "id": "1e8a359d",
   "metadata": {},
   "outputs": [],
   "source": [
    "df_cleaned_scada_test_ws =  df_cleaned_scada_test.dropna(subset=['ws_kmeans_pred', 'ws_agc_pred', 'ws_gmm_pred', 'ws_ap_pred'])[['TurbID', 'Day', 'Tmstamp', 'Wspd','cluster_ws_kmeans',\n",
    "                                                                                                                                 'cluster_ws_agc', 'cluster_ws_gmm', 'cluster_ws_ap',\n",
    "                                                                                                                                 'ws_kmeans_pred', 'ws_agc_pred', 'ws_gmm_pred', 'ws_ap_pred']]"
   ]
  },
  {
   "cell_type": "code",
   "execution_count": 130,
   "id": "c121d6d9",
   "metadata": {},
   "outputs": [
    {
     "data": {
      "text/plain": [
       "93.7"
      ]
     },
     "execution_count": 130,
     "metadata": {},
     "output_type": "execute_result"
    }
   ],
   "source": [
    "round(len(df_cleaned_scada_test_ws)/len(df_cleaned_scada_test)*100, 1)"
   ]
  },
  {
   "cell_type": "code",
   "execution_count": 131,
   "id": "8659df72",
   "metadata": {},
   "outputs": [
    {
     "data": {
      "text/plain": [
       "18682"
      ]
     },
     "execution_count": 131,
     "metadata": {},
     "output_type": "execute_result"
    }
   ],
   "source": [
    "len(df_cleaned_scada_test_ws)"
   ]
  },
  {
   "cell_type": "markdown",
   "id": "d1af9122",
   "metadata": {},
   "source": [
    "#### Evaluate cluster approaches"
   ]
  },
  {
   "cell_type": "markdown",
   "id": "8649946a",
   "metadata": {},
   "source": [
    "##### RMSE"
   ]
  },
  {
   "cell_type": "code",
   "execution_count": 86,
   "id": "02125ff1",
   "metadata": {},
   "outputs": [],
   "source": [
    "rmse_kmeans = mean_squared_error(df_cleaned_scada_test_ws.Wspd.values, df_cleaned_scada_test_ws.ws_kmeans_pred.values, squared=False)"
   ]
  },
  {
   "cell_type": "code",
   "execution_count": 87,
   "id": "96c3a696",
   "metadata": {},
   "outputs": [],
   "source": [
    "rmse_agc = mean_squared_error(df_cleaned_scada_test_ws.Wspd.values, df_cleaned_scada_test_ws.ws_agc_pred.values, squared=False)"
   ]
  },
  {
   "cell_type": "code",
   "execution_count": 88,
   "id": "1da3a4d6",
   "metadata": {},
   "outputs": [],
   "source": [
    "rmse_gmm = mean_squared_error(df_cleaned_scada_test_ws.Wspd.values, df_cleaned_scada_test_ws.ws_gmm_pred.values, squared=False)"
   ]
  },
  {
   "cell_type": "code",
   "execution_count": 89,
   "id": "022cf1d0",
   "metadata": {},
   "outputs": [],
   "source": [
    "rmse_ap = mean_squared_error(df_cleaned_scada_test_ws.Wspd.values, df_cleaned_scada_test_ws.ws_ap_pred.values, squared=False)"
   ]
  },
  {
   "cell_type": "markdown",
   "id": "bc323b70",
   "metadata": {},
   "source": [
    "##### MAE"
   ]
  },
  {
   "cell_type": "code",
   "execution_count": 90,
   "id": "47e76195",
   "metadata": {},
   "outputs": [],
   "source": [
    "mae_kmeans = mean_absolute_error(df_cleaned_scada_test_ws.Wspd.values, df_cleaned_scada_test_ws.ws_kmeans_pred.values)"
   ]
  },
  {
   "cell_type": "code",
   "execution_count": 91,
   "id": "ca289d55",
   "metadata": {},
   "outputs": [],
   "source": [
    "mae_agc = mean_absolute_error(df_cleaned_scada_test_ws.Wspd.values, df_cleaned_scada_test_ws.ws_agc_pred.values)"
   ]
  },
  {
   "cell_type": "code",
   "execution_count": 92,
   "id": "8c9e5e8f",
   "metadata": {},
   "outputs": [],
   "source": [
    "mae_gmm = mean_absolute_error(df_cleaned_scada_test_ws.Wspd.values, df_cleaned_scada_test_ws.ws_gmm_pred.values)"
   ]
  },
  {
   "cell_type": "code",
   "execution_count": 93,
   "id": "994c4f4b",
   "metadata": {},
   "outputs": [],
   "source": [
    "mae_ap = mean_absolute_error(df_cleaned_scada_test_ws.Wspd.values, df_cleaned_scada_test_ws.ws_ap_pred.values)"
   ]
  },
  {
   "cell_type": "markdown",
   "id": "f7fa5e37",
   "metadata": {},
   "source": [
    "##### Compute MAPE metric for non-zero missing values"
   ]
  },
  {
   "cell_type": "code",
   "execution_count": 94,
   "id": "6a321573",
   "metadata": {},
   "outputs": [],
   "source": [
    "mape_kmeans = mean_absolute_percentage_error(df_cleaned_scada_test_ws[df_cleaned_scada_test_ws['Wspd'] > 0.0].Wspd.values,\n",
    "                               df_cleaned_scada_test_ws[df_cleaned_scada_test_ws['Wspd'] > 0.0].ws_kmeans_pred.values)*100"
   ]
  },
  {
   "cell_type": "code",
   "execution_count": 95,
   "id": "0cfaf187",
   "metadata": {},
   "outputs": [],
   "source": [
    "mape_agc = mean_absolute_percentage_error(df_cleaned_scada_test_ws[df_cleaned_scada_test_ws['Wspd'] > 0.0].Wspd.values,\n",
    "                               df_cleaned_scada_test_ws[df_cleaned_scada_test_ws['Wspd'] > 0.0].ws_agc_pred.values)*100"
   ]
  },
  {
   "cell_type": "code",
   "execution_count": 96,
   "id": "c19c3509",
   "metadata": {},
   "outputs": [],
   "source": [
    "mape_gmm = mean_absolute_percentage_error(df_cleaned_scada_test_ws[df_cleaned_scada_test_ws['Wspd'] > 0.0].Wspd.values,\n",
    "                               df_cleaned_scada_test_ws[df_cleaned_scada_test_ws['Wspd'] > 0.0].ws_gmm_pred.values)*100"
   ]
  },
  {
   "cell_type": "code",
   "execution_count": 97,
   "id": "9563849f",
   "metadata": {},
   "outputs": [],
   "source": [
    "mape_ap = mean_absolute_percentage_error(df_cleaned_scada_test_ws[df_cleaned_scada_test_ws['Wspd'] > 0.0].Wspd.values,\n",
    "                               df_cleaned_scada_test_ws[df_cleaned_scada_test_ws['Wspd'] > 0.0].ws_ap_pred.values)*100"
   ]
  },
  {
   "cell_type": "markdown",
   "id": "46b9c6cb",
   "metadata": {},
   "source": [
    "#### Visualize all metrics"
   ]
  },
  {
   "cell_type": "code",
   "execution_count": 113,
   "id": "cf4b847f",
   "metadata": {},
   "outputs": [],
   "source": [
    "df_rmse = pd.DataFrame(dict({'Kmeans': rmse_kmeans, 'AGC': rmse_agc, 'GMM': rmse_gmm, 'AP': rmse_ap}).items(), columns=['Method', 'RMSE'])\n",
    "df_mae = pd.DataFrame(dict({'Kmeans': mae_kmeans, 'AGC': mae_agc, 'GMM': mae_gmm, 'AP': mae_ap}).items(), columns=['Method', 'MAE'])\n",
    "df_mape = pd.DataFrame(dict({'Kmeans': mape_kmeans, 'AGC': mape_agc, 'GMM': mape_gmm, 'AP': mape_ap}).items(), columns=['Method', 'MAPE'])"
   ]
  },
  {
   "cell_type": "code",
   "execution_count": 114,
   "id": "77d98bf2",
   "metadata": {},
   "outputs": [
    {
     "data": {
      "image/png": "[encoded data removed]",
      "text/plain": [
       "<Figure size 648x288 with 3 Axes>"
      ]
     },
     "metadata": {},
     "output_type": "display_data"
    }
   ],
   "source": [
    "fig, axes = plt.subplots(1,3, figsize=(9, 4))\n",
    "df_rmse.sort_values('RMSE', ascending=False).plot(x='Method', y='RMSE', kind='bar', color='lime', legend=False, ax = axes[0],  width=0.4)\n",
    "axes[0].tick_params(axis='x', which='both', labelsize=12, rotation=0)\n",
    "axes[0].tick_params(axis='y', which='both', labelsize=12)\n",
    "axes[0].set_xlabel(' ')\n",
    "axes[0].set_title('RMSE', fontsize=13);\n",
    "df_mae.sort_values('MAE', ascending=False).plot(x='Method', y='MAE', kind='bar', legend=False, ax = axes[1], width=0.4)\n",
    "axes[1].tick_params(axis='x', which='both', labelsize=12, rotation=0)\n",
    "axes[1].tick_params(axis='y', which='both', labelsize=12)\n",
    "axes[1].set_xlabel(' ')\n",
    "axes[1].set_title('MAE', fontsize=13);\n",
    "df_mape.sort_values('MAPE', ascending=False).plot(x='Method', y='MAPE', kind='bar', color='orange', legend=False, ax=axes[2], width=0.4);\n",
    "axes[2].tick_params(axis='x', which='both', labelsize=12, rotation=0)\n",
    "axes[2].tick_params(axis='y', which='both', labelsize=12)\n",
    "axes[2].set_xlabel(' ')\n",
    "axes[2].set_title('MAPE (%)', fontsize=13);\n",
    "fig.tight_layout(w_pad=2)"
   ]
  },
  {
   "cell_type": "markdown",
   "id": "d633ae8c",
   "metadata": {},
   "source": [
    "##### Compute the errors"
   ]
  },
  {
   "cell_type": "code",
   "execution_count": 101,
   "id": "12d44b98",
   "metadata": {},
   "outputs": [],
   "source": [
    "df_cleaned_scada_test_ws['ws_kmeans_error'] = df_cleaned_scada_test_ws['Wspd'] - df_cleaned_scada_test_ws['ws_kmeans_pred']\n",
    "df_cleaned_scada_test_ws['ws_agc_error'] = df_cleaned_scada_test_ws['Wspd'] - df_cleaned_scada_test_ws['ws_agc_pred']\n",
    "df_cleaned_scada_test_ws['ws_gmm_error'] = df_cleaned_scada_test_ws['Wspd'] - df_cleaned_scada_test_ws['ws_gmm_pred']\n",
    "df_cleaned_scada_test_ws['ws_ap_error'] = df_cleaned_scada_test_ws['Wspd'] - df_cleaned_scada_test_ws['ws_ap_pred']"
   ]
  },
  {
   "cell_type": "code",
   "execution_count": 102,
   "id": "600feb57",
   "metadata": {},
   "outputs": [],
   "source": [
    "df_ws_errors = pd.DataFrame({'Kmeans': df_cleaned_scada_test_ws['ws_kmeans_error'].values, 'AGC': df_cleaned_scada_test_ws['ws_agc_error'].values,\n",
    "                                 'GMM': df_cleaned_scada_test_ws['ws_gmm_error'].values, 'AP': df_cleaned_scada_test_ws['ws_ap_error'].values})"
   ]
  },
  {
   "cell_type": "code",
   "execution_count": 103,
   "id": "3f4bee6b",
   "metadata": {},
   "outputs": [],
   "source": [
    "flierprops = dict(marker='.', markersize=3, markeredgecolor='g')"
   ]
  },
  {
   "cell_type": "code",
   "execution_count": 104,
   "id": "667cf509",
   "metadata": {},
   "outputs": [
    {
     "data": {
      "image/png": "[encoded data removed]",
      "text/plain": [
       "<Figure size 432x288 with 1 Axes>"
      ]
     },
     "metadata": {},
     "output_type": "display_data"
    }
   ],
   "source": [
    "df_ws_errors.abs().boxplot(grid=False, flierprops=flierprops);"
   ]
  },
  {
   "cell_type": "markdown",
   "id": "f6f00d1f",
   "metadata": {},
   "source": [
    "#### Error Distributions"
   ]
  },
  {
   "cell_type": "code",
   "execution_count": 118,
   "id": "ba4e85af",
   "metadata": {},
   "outputs": [
    {
     "data": {
      "image/png": "[encoded data removed]",
      "text/plain": [
       "<Figure size 648x576 with 4 Axes>"
      ]
     },
     "metadata": {},
     "output_type": "display_data"
    }
   ],
   "source": [
    "fig, axes = plt.subplots(2, 2, figsize=(9,8))\n",
    "#Kmeans Approach\n",
    "l = sns.histplot(df_cleaned_scada_test_ws['ws_kmeans_error'], color='blue', ax=axes[0,0])\n",
    "l.set_xlim([-3,3])\n",
    "l.set_xlabel(' \\n\\n', fontsize=12);\n",
    "l.set_title('Kmeans', fontsize=13)\n",
    "l.set_ylabel('Frequency', fontsize=12);\n",
    "\n",
    "#AGC Approach\n",
    "m = sns.histplot(df_cleaned_scada_test_ws['ws_agc_error'], color='green', ax=axes[0,1])\n",
    "m.set_xlim([-3, 3]);\n",
    "m.set_xlabel(' \\n\\n', fontsize=12);\n",
    "m.set_ylabel(' ', fontsize=12);\n",
    "m.set_title('Agglomerative Clustering', fontsize=13);\n",
    "\n",
    "#GMM Approach\n",
    "n = sns.histplot(df_cleaned_scada_test_ws['ws_gmm_error'], color='magenta', ax=axes[1,0])\n",
    "n.set_xlim([-3, 3]);\n",
    "n.set_xlabel('Imputation Error', fontsize=12);\n",
    "n.set_ylabel('Frequency', fontsize=12);\n",
    "n.set_title('Gausian Mixture Model', fontsize=13);\n",
    "\n",
    "#AP Approach\n",
    "p = sns.histplot(df_cleaned_scada_test_ws['ws_ap_error'], color='brown', ax=axes[1,1])\n",
    "p.set_xlim([-3, 3]);\n",
    "p.set_xlabel('Imputation Error', fontsize=12);\n",
    "p.set_ylabel(' ', fontsize=12);\n",
    "p.set_title('Affinity Propagation', fontsize=13);\n",
    "fig.tight_layout(h_pad=0.1)"
   ]
  },
  {
   "cell_type": "code",
   "execution_count": 129,
   "id": "2a7d7a40",
   "metadata": {},
   "outputs": [
    {
     "data": {
      "image/png": "[encoded data removed]",
      "text/plain": [
       "<Figure size 648x360 with 1 Axes>"
      ]
     },
     "metadata": {},
     "output_type": "display_data"
    }
   ],
   "source": [
    "plt.figure(figsize=(9,5))\n",
    "plt.plot(df_cleaned_scada_test_ws['ws_kmeans_pred'].sample(n=50, random_state=73), 'ob', markersize=8, mfc='white')\n",
    "plt.plot(df_cleaned_scada_test_ws['ws_agc_pred'].sample(n=50, random_state=73), 'dg', mfc='white', markersize=8)\n",
    "plt.plot(df_cleaned_scada_test_ws['ws_gmm_pred'].sample(n=50, random_state=73), '.m', markersize=10)\n",
    "plt.plot(df_cleaned_scada_test_ws['ws_ap_pred'].sample(n=50, random_state=73), '^', color='brown', mfc='white', markersize=8)\n",
    "plt.plot(df_cleaned_scada_test_ws['Wspd'].sample(n=50, random_state=73), 'xr', markersize=8)\n",
    "plt.legend(labels=['Kmeans', 'AGC', 'GMM', 'AP', 'Ground truth'], fontsize=12, ncol = 5);\n",
    "plt.ylabel('Wind Speed (m/s)', fontsize=13);\n",
    "plt.ylim([-5, 25])\n",
    "plt.xticks(fontsize=12);\n",
    "plt.yticks(fontsize=12);"
   ]
  },
  {
   "cell_type": "markdown",
   "id": "080f4212",
   "metadata": {},
   "source": [
    "### Save processed data"
   ]
  },
  {
   "cell_type": "code",
   "execution_count": 106,
   "id": "d0e72987",
   "metadata": {},
   "outputs": [],
   "source": [
    "# cleaned_scada_data.to_csv('cleaned_scada_data.csv', index=False)"
   ]
  },
  {
   "cell_type": "code",
   "execution_count": 686,
   "id": "38a6168f",
   "metadata": {},
   "outputs": [],
   "source": [
    "# df_loc_clusters.to_csv('turbine_loc_cluster_data_all_methods_eval.csv', index=False)"
   ]
  },
  {
   "cell_type": "code",
   "execution_count": 108,
   "id": "81033c05",
   "metadata": {},
   "outputs": [],
   "source": [
    "# df_cleaned_scada_test.to_csv('missing_values_test_data.csv', index=False)"
   ]
  },
  {
   "cell_type": "code",
   "execution_count": 274,
   "id": "78f59c18",
   "metadata": {},
   "outputs": [],
   "source": [
    "# df_cleaned_scada_test_ws.to_csv('ws_missing_values_results.csv')"
   ]
  },
  {
   "cell_type": "code",
   "execution_count": null,
   "id": "08453122",
   "metadata": {},
   "outputs": [],
   "source": []
  }
 ],
 "metadata": {
  "kernelspec": {
   "display_name": "wea",
   "language": "python",
   "name": "wea"
  },
  "language_info": {
   "codemirror_mode": {
    "name": "ipython",
    "version": 3
   },
   "file_extension": ".py",
   "mimetype": "text/x-python",
   "name": "python",
   "nbconvert_exporter": "python",
   "pygments_lexer": "ipython3",
   "version": "3.10.4"
  }
 },
 "nbformat": 4,
 "nbformat_minor": 5
}
